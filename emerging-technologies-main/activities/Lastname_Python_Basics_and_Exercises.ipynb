{
  "nbformat": 4,
  "nbformat_minor": 0,
  "metadata": {
    "colab": {
      "provenance": []
    },
    "kernelspec": {
      "name": "python3",
      "display_name": "Python 3"
    },
    "language_info": {
      "name": "python"
    }
  },
  "cells": [
    {
      "cell_type": "markdown",
      "source": [
        "# Programming Language Overview\n",
        "\n",
        "Python, created by Guido van Rossum and released in 1991, is renowned for its simplicity and readability, making it a popular choice for beginners and experts alike. It's a versatile language used in various fields, from web development to data science and artificial intelligence. Python's design philosophy emphasizes code readability with its notable use of significant whitespace. This guide explores the key aspects of Python, from its basic syntax to more advanced features, providing detailed explanations and code examples.\n",
        "\n",
        "# Instruction\n",
        "In this laboratory activity, you need to answer the following exercises. Submit your output in `.ipynb` format, following the naming convention, `<Lastname>_Python_Basics_and_Exercises.ipynb`, example, `Aleluya_Python_Basics_and_Exercises.ipynb`. Submission bin is in MOLE. Failure to submit on or before the due date will result into a score of `zero`.\n",
        "\n",
        "# Reminders\n",
        "Make sure that you understand the lessons. Do not just copy answers from any AI prompts. Your instructor will give you oral assessment if you failed to show integrity.\n",
        "\n",
        "# Outline\n",
        "The following topics in Python programming will be covered.\n",
        "1.   Operators (Arithmetic, Assignment, Bitwise)\n",
        "2.   Strings\n",
        "3.   Type Casting\n",
        "4.   Built-in Functions\n",
        "5.   Selection Structures\n",
        "6.   Iterative Structures\n",
        "7.   Lists\n",
        "8.   Tuples\n",
        "9.   Sets\n",
        "10.  Dictionaries\n",
        "11.  Functions\n",
        "\n",
        "---\n",
        "\n"
      ],
      "metadata": {
        "id": "_a69gmJn_eCE"
      }
    },
    {
      "cell_type": "markdown",
      "source": [
        "# 1. Operators"
      ],
      "metadata": {
        "id": "-66DfJx-BP5A"
      }
    },
    {
      "cell_type": "markdown",
      "source": [
        "## Multiplication at Three\n",
        "Write a program that takes in three inputs, x, y, and z, and prints their product when they are all multiplied by each other.\n",
        "\n",
        "\n",
        "Sample output:\n",
        "```\n",
        "Enter x: 10\n",
        "Enter y: 55\n",
        "Enter z: 44\n",
        "Product: 24200\n",
        "\n",
        "```"
      ],
      "metadata": {
        "id": "Zg7qwmymBUOn"
      }
    },
    {
      "cell_type": "code",
      "execution_count": null,
      "metadata": {
        "id": "HIXXqsdH_XXI"
      },
      "outputs": [],
      "source": [
        "# insert your code for Multiplication at Three"
      ]
    },
    {
      "cell_type": "markdown",
      "source": [
        "## Square Me\n",
        "Write a program that takes a number as input from the user and prints its squared value.\n",
        "\n",
        "Sample output:\n",
        "```\n",
        "Enter number: 2\n",
        "Square: 4\n",
        "```"
      ],
      "metadata": {
        "id": "G6nnm9NYB6oQ"
      }
    },
    {
      "cell_type": "code",
      "source": [
        "# insert your code for Square Me"
      ],
      "metadata": {
        "id": "VndzREDG_hoI"
      },
      "execution_count": null,
      "outputs": []
    },
    {
      "cell_type": "markdown",
      "source": [
        "## Eat the Big\n",
        "Write a program that accepts three integer inputs, x, y, and z, and prints the result when x is subtracted by y and z.\n",
        "\n",
        "Sample output:\n",
        "```\n",
        "Enter x: 25\n",
        "Enter y: 10\n",
        "Enter z: 5\n",
        "Difference: 10\n",
        "```"
      ],
      "metadata": {
        "id": "rus8URC7CV3s"
      }
    },
    {
      "cell_type": "code",
      "source": [
        "# insert your code for Eat the Big"
      ],
      "metadata": {
        "id": "Ukp8imtkCm0H"
      },
      "execution_count": null,
      "outputs": []
    },
    {
      "cell_type": "markdown",
      "source": [
        "## Inverse Instructions\n",
        "Write a program that asks for four float numbers, a, b, c, and d. Add a and b and assign the value to a, and also, add c and d and assign to c. Multiply a by c and assign them to a variable called `result`. Print the `result` in two decimal places.\n",
        "\n",
        "Sample Output:\n",
        "```\n",
        "Enter the value of a: 1\n",
        "Enter the value of b: 2\n",
        "Enter the value of c: 3\n",
        "Enter the value of d: 4\n",
        "Result: 21.00\n",
        "```"
      ],
      "metadata": {
        "id": "AiNmrP9nCna1"
      }
    },
    {
      "cell_type": "code",
      "source": [
        "# insert your code for Inverse Instructions"
      ],
      "metadata": {
        "id": "1vM7qylgDRwY"
      },
      "execution_count": null,
      "outputs": []
    },
    {
      "cell_type": "markdown",
      "source": [
        "## AND and OR\n",
        "\n",
        "Write a program that asks for three integers, x, y, and z. Use the AND operator on x and y and then, use the OR operator on z and the result of x AND y.\n",
        "\n",
        "Sample output:\n",
        "```\n",
        "Enter x: 12\n",
        "Enter y: 25\n",
        "Enter z: 6\n",
        "Result: 14\n",
        "```\n"
      ],
      "metadata": {
        "id": "6GWveym9DqLu"
      }
    },
    {
      "cell_type": "code",
      "source": [
        "# insert your code for AND and OR"
      ],
      "metadata": {
        "id": "j36rghjbDo1z"
      },
      "execution_count": null,
      "outputs": []
    },
    {
      "cell_type": "markdown",
      "source": [
        "# 2. Strings"
      ],
      "metadata": {
        "id": "gFppF4N5EIm-"
      }
    },
    {
      "cell_type": "markdown",
      "source": [
        "## Foods for Life!\n",
        "\n",
        "Write a program that asks for three string inputs, `food1`, `food2`, and `food3`. After asking for input, print in the format: `\"My favorite foods are {food1}, {food2}, {food3}, and more!\"`\n",
        "\n",
        "Sample output:\n",
        "```\n",
        "Enter your favorite food 1: Pizza\n",
        "Enter your favorite food 2: Burger\n",
        "Enter your favorite food 3: Pasta\n",
        "My favorite foods are Pizza, Burger, Pasta, and more!\n",
        "```"
      ],
      "metadata": {
        "id": "m4hm4o7uEUw2"
      }
    },
    {
      "cell_type": "code",
      "source": [
        "# insert your code for Foods for Life!"
      ],
      "metadata": {
        "id": "skb_LEt6ET6H"
      },
      "execution_count": null,
      "outputs": []
    },
    {
      "cell_type": "markdown",
      "source": [
        "## Tech Gadget Wishlist\n",
        "Write a program that asks for four tech gadgets on your wishlist. Print a message like: `\"On my tech wishlist: {gadget1}, {gadget2}, {gadget3}, and {gadget4}.\"`\n",
        "\n",
        "```\n",
        "Enter the name of the first tech gadget on your wishlist: Laptop\n",
        "Enter the name of the second tech gadget on your wishlist: Phone\n",
        "Enter the name of the third tech gadget on your wishlist: Camera\n",
        "Enter the name of the fourth tech gadget on your wishlist: Headphones\n",
        "On my tech wishlist: Laptop, Phone, Camera, and Headphones.\n",
        "```"
      ],
      "metadata": {
        "id": "X7I8Y3bIE8K7"
      }
    },
    {
      "cell_type": "code",
      "source": [
        "# insert your code for Tech Gadget Wishlist"
      ],
      "metadata": {
        "id": "sqaYsZDhFTqt"
      },
      "execution_count": null,
      "outputs": []
    },
    {
      "cell_type": "markdown",
      "source": [
        "# 3. Type Casting"
      ],
      "metadata": {
        "id": "g6bURBLaFWtm"
      }
    },
    {
      "cell_type": "markdown",
      "source": [
        "## Character to ASCII\n",
        "Write a program that takes a character and take its ASCII integer value. Finally, print the result in format `\"The ASCII value of {char} is {value}.\".`\n",
        "\n",
        "```\n",
        "Enter a character: A\n",
        "The ASCII value of A is 65.\n",
        "```"
      ],
      "metadata": {
        "id": "abqhbTrKF3nt"
      }
    },
    {
      "cell_type": "code",
      "source": [
        "# insert your code for Character to ASCII"
      ],
      "metadata": {
        "id": "wckOyxlbGJHd"
      },
      "execution_count": null,
      "outputs": []
    },
    {
      "cell_type": "markdown",
      "source": [
        "## Numeric String Concatenation\n",
        "Write a program that takes two numeric strings as input, concatenates them, and converts them into integers. Finally, add the two numeric strings to the concatenated value, and returns the result. For example, 2 and 3 -> 23 + 2 + 3 = 28. Finally, print the result in format `\"Result: {result}\".`\n",
        "\n",
        "Sample output:\n",
        "```\n",
        "Enter the first numeric string: 2\n",
        "Enter the second numeric string: 3\n",
        "Result: 28\n",
        "```"
      ],
      "metadata": {
        "id": "jqHAcp5gFox6"
      }
    },
    {
      "cell_type": "code",
      "source": [
        "# insert your code for Numeric String Concatenation"
      ],
      "metadata": {
        "id": "6RyLx-MeF0g3"
      },
      "execution_count": null,
      "outputs": []
    },
    {
      "cell_type": "markdown",
      "source": [
        "## Greater Character\n",
        "Write a program that asks for two character inputs. Get which character is greater and print the result in format `\"The greater character is: {result}\".`\n",
        "\n",
        "Sample output:\n",
        "```\n",
        "Enter the first character: 0\n",
        "Enter the second character: }\n",
        "The greater character is: }\n",
        "```"
      ],
      "metadata": {
        "id": "8Jo5kOFLGWgW"
      }
    },
    {
      "cell_type": "code",
      "source": [
        "# insert your code for Greater Character"
      ],
      "metadata": {
        "id": "FpNTJVoLGerO"
      },
      "execution_count": null,
      "outputs": []
    },
    {
      "cell_type": "markdown",
      "source": [
        "# 4. Built-in Functions"
      ],
      "metadata": {
        "id": "xqxyB-hPGhvC"
      }
    },
    {
      "cell_type": "markdown",
      "source": [
        "## Area of Hexagon\n",
        "Write a program that prompts the user to enter the length of the side of a regular hexagon. The program should use the predefined math functions to calculate the area of the hexagon using the entered side length. Finally, the program should print the calculated area of the hexagon in two decimal places.\n",
        "\n",
        "The formula to get area of hexagon is,\n",
        "<br>$A = \\dfrac{3\\sqrt{3}}{2} a^2$"
      ],
      "metadata": {
        "id": "neuwyq84GwVg"
      }
    },
    {
      "cell_type": "markdown",
      "source": [
        "Sample output:\n",
        "```\n",
        "Enter side: 5\n",
        "Area of hexagon: 64.95\n",
        "```"
      ],
      "metadata": {
        "id": "suKWlDnLJb1p"
      }
    },
    {
      "cell_type": "code",
      "source": [
        "# insert your code for Area of Hexagon"
      ],
      "metadata": {
        "id": "Abr1K_CLHj0R"
      },
      "execution_count": null,
      "outputs": []
    },
    {
      "cell_type": "markdown",
      "source": [
        "## Volume of a Bottle\n",
        "Write a program that prompts the user to enter the dimensions of a bottle - the neck radius, neck height, base radius, and base height. The program should use the predefined math functions to calculate the volume of the bottle using the entered dimensions. Finally, the program should print the calculated volume of the bottle.\n",
        "\n",
        "Volume of a bottle formula:\n",
        "<br>\n",
        "$V= \\dfrac{1}{3} \\pi h_2 ( a^2 + a b + b^2 ) + \\pi b^2 h_1 $\n",
        "\n",
        "\n",
        "*   $a$ is neck radius\n",
        "*   $b$ is base radius\n",
        "*   $h_1$ is base height\n",
        "*   $h_2$ is neck height"
      ],
      "metadata": {
        "id": "pTPluAvoHmPx"
      }
    },
    {
      "cell_type": "markdown",
      "source": [
        "Sample Output:\n",
        "```\n",
        "Enter Neck Radius: 4.5\n",
        "Enter Neck Height: 5.5\n",
        "Enter Base Radius: 6.5\n",
        "Enter Base Height: 7.5\n",
        "Volume of Bottle: 1523.93\n",
        "```"
      ],
      "metadata": {
        "id": "EIQD8h91K98Z"
      }
    },
    {
      "cell_type": "code",
      "source": [
        "# insert your code for Volume of a Bottle"
      ],
      "metadata": {
        "id": "hqRlNuNTLD2c"
      },
      "execution_count": null,
      "outputs": []
    },
    {
      "cell_type": "markdown",
      "source": [
        "## Volume of a Pyramid (polygon base)\n",
        "Write a program that prompts the user to enter the number of sides, side length, and height of a pyramid. The program should use the predefined math functions to calculate the volume of the pyramid using the entered values. Finally, the program should print the calculated volume of the pyramid.\n",
        "\n",
        "Volume of pyramid formula:\n",
        "$V = \\dfrac{1}{3} h ( \\dfrac{1}{4} b^2 \\dfrac{cos(\\dfrac{\\pi}{n})}{sin(\\dfrac{\\pi}{n})} )$\n",
        "\n",
        "\n",
        "\n",
        "*   $n$ is number of sides\n",
        "*   $b$ is side length\n",
        "*   $h$ is height"
      ],
      "metadata": {
        "id": "jLcUI4A9LCMm"
      }
    },
    {
      "cell_type": "markdown",
      "source": [
        "Sample output:\n",
        "```\n",
        "Enter number of sides: 3.5\n",
        "Enter side length: 4.5\n",
        "Enter height: 5.5\n",
        "Volume of Pyramid: 7.40\n",
        "```"
      ],
      "metadata": {
        "id": "HHzANBSeuOdQ"
      }
    },
    {
      "cell_type": "code",
      "source": [
        "# insert your code for Volume of Pyramid (polygon base)"
      ],
      "metadata": {
        "id": "-gM4VJTjuUID"
      },
      "execution_count": null,
      "outputs": []
    },
    {
      "cell_type": "markdown",
      "source": [
        "## String Concatenation\n",
        "Create a program that asks the user to enter two strings. Use the predefined string function to concatenate the two strings and print the result.\n",
        "\n",
        "Sample output:\n",
        "```\n",
        "Enter the first string: Hello\n",
        "Enter the second string: World\n",
        "Concatenated string: HelloWorld\n",
        "```"
      ],
      "metadata": {
        "id": "VqR1en3Su51l"
      }
    },
    {
      "cell_type": "code",
      "source": [
        "# insert your code for String Concatenation"
      ],
      "metadata": {
        "id": "qf7BJ3fFvEF-"
      },
      "execution_count": null,
      "outputs": []
    },
    {
      "cell_type": "markdown",
      "source": [
        "## String Length Calculator\n",
        "Write a program that asks the user to enter a string. Use the predefined string function to calculate and print the length of the string.\n",
        "\n",
        "Sample output:\n",
        "```\n",
        "Enter a string: programming\n",
        "Length of the string: 11\n",
        "```\n"
      ],
      "metadata": {
        "id": "5XfiBXspvIqC"
      }
    },
    {
      "cell_type": "code",
      "source": [
        "# insert your code for String Length Calculator"
      ],
      "metadata": {
        "id": "PgvE82AjvUKP"
      },
      "execution_count": null,
      "outputs": []
    },
    {
      "cell_type": "markdown",
      "source": [
        "# 5. Selection Structures"
      ],
      "metadata": {
        "id": "WxdlxetXvXao"
      }
    },
    {
      "cell_type": "markdown",
      "source": [
        "## Billing It Is\n",
        "Write a program that takes a floating-point number bill as input, representing the total bill amount. It checks the eligibility for a discount based on the bill amount. If the bill is greater than or equal to 100, it prints \"You are eligible for a 10% discount.\" If the bill is greater than or equal to 50 but less than 100, it prints \"You are eligible for a 5% discount.\" If neither condition is met, it does nothing.\n",
        "\n",
        "Sample Output:\n",
        "```\n",
        "Enter your total bill: 150\n",
        "You are eligible for a 10% discount.\n",
        "```"
      ],
      "metadata": {
        "id": "OvA-jvvMvhSW"
      }
    },
    {
      "cell_type": "code",
      "source": [
        "# insert your code for Billing It Is"
      ],
      "metadata": {
        "id": "5Q7t8awkv-D5"
      },
      "execution_count": null,
      "outputs": []
    },
    {
      "cell_type": "markdown",
      "source": [
        "## Palindromic Number\n",
        "Write a program that takes an integer number as input, and it is always in 4-digits, and check if it is a palindrome. A palindrome is a number that remains the same when its digits are reversed. If the number is a palindrome, print \"The number is a palindrome.\". Otherwise, it does nothing.\n",
        "\n",
        "Sample output 1:\n",
        "```\n",
        "Enter a number: 1111\n",
        "The number is a palindrome.\n",
        "```\n",
        "Sample output 2:\n",
        "```\n",
        "Enter a number: 3223\n",
        "The number is a palindrome.\n",
        "```\n",
        "Sample output 3:\n",
        "```\n",
        "Enter a number: 4225\n",
        "```"
      ],
      "metadata": {
        "id": "hwWVbIx-wCBt"
      }
    },
    {
      "cell_type": "code",
      "source": [
        "# insert your code for Palindromic Number"
      ],
      "metadata": {
        "id": "6XokTP3gwpwC"
      },
      "execution_count": null,
      "outputs": []
    },
    {
      "cell_type": "markdown",
      "source": [
        "## Driver's License Please\n",
        "Write a program that takes two parameters, `age` (an integer) and `hasLicense` (a character), and check if a person is eligible to drive. To be eligible, the person must be 18 years or older and have a valid driver's license, indicated by `'Y'` or `'y'` for hasLicense. If eligible, print `\"You can drive.\"` Otherwise, print `\"You cannot drive.\"`\n",
        "\n",
        "Sample output 1:\n",
        "```\n",
        "Enter your age: 17\n",
        "Do you have a driver's license? (Y/N): N\n",
        "You cannot drive.\n",
        "```\n",
        "Sample output 2:\n",
        "```\n",
        "Enter your age: 18\n",
        "Do you have a driver's license? (Y/N): Y\n",
        "You can drive.\n",
        "```\n",
        "Sample output 3:\n",
        "```\n",
        "Enter your age: 64\n",
        "Do you have a driver's license? (Y/N): Y\n",
        "You can drive.\n",
        "```\n"
      ],
      "metadata": {
        "id": "D3dtoLaYwuJk"
      }
    },
    {
      "cell_type": "code",
      "source": [
        "# insert your code for Driver's License Please"
      ],
      "metadata": {
        "id": "RpyuZRS_Pdxl"
      },
      "execution_count": null,
      "outputs": []
    },
    {
      "cell_type": "markdown",
      "source": [
        "## ASCII vs Number\n",
        "\n",
        "Write a program that takes two parameters, character and number. Compare the ASCII value of the character with the given number.\n",
        "\n",
        "If the ASCII value of the character is greater than the number, print \"ASCII wins.\" Otherwise, print \"Number wins.\"\n",
        "\n",
        "Sample output 1:\n",
        "```\n",
        "Enter a character: 5\n",
        "Enter a number: 5\n",
        "ASCII wins\n",
        "```\n",
        "Sample output 2:\n",
        "```\n",
        "Enter a character: 4\n",
        "Enter a number: a\n",
        "ASCII wins\n",
        "```\n",
        "Sample output 3:\n",
        "```\n",
        "Enter a character: 7\n",
        "Enter a number: 200\n",
        "Number wins\n",
        "```"
      ],
      "metadata": {
        "id": "B1TfPJViPg2K"
      }
    },
    {
      "cell_type": "code",
      "source": [
        "# insert your code for ASCII vs Number"
      ],
      "metadata": {
        "id": "3XtVm0NcP8JW"
      },
      "execution_count": null,
      "outputs": []
    },
    {
      "cell_type": "markdown",
      "source": [
        "## Voting Eligibility\n",
        "Write a program that takes a person's age and citizenship status (citizen - 1 or non-citizen - 0) as input and determines whether they are eligible to vote based on the following conditions:\n",
        "\n",
        "If the person is a citizen and 18 years or older, print `\"You are eligible to vote\".`\n",
        "If the person is a non-citizen, print `\"Only citizens are eligible to vote\".`\n",
        "If the person is younger than 18, print `\"You must be 18 years or older to vote\".`\n",
        "\n",
        "Sample output 1:\n",
        "```\n",
        "Enter your age: 20\n",
        "Are you a citizen? (Enter 1 for yes, 0 for no): 1\n",
        "You are eligible to vote.\n",
        "```\n",
        "Sample output 2:\n",
        "```\n",
        "Enter your age: 17\n",
        "Are you a citizen? (Enter 1 for yes, 0 for no): 1\n",
        "You must be 18 years or older to vote.\n",
        "```\n",
        "Sample output 3:\n",
        "```\n",
        "Enter your age: 100\n",
        "Are you a citizen? (Enter 1 for yes, 0 for no): 0\n",
        "Only citizens are eligible to vote.\n",
        "```\n"
      ],
      "metadata": {
        "id": "-JrDHz7SP_Gk"
      }
    },
    {
      "cell_type": "code",
      "source": [
        "# insert your code for Voting Eligibility"
      ],
      "metadata": {
        "id": "2Xst4lEQQX19"
      },
      "execution_count": null,
      "outputs": []
    },
    {
      "cell_type": "markdown",
      "source": [
        "## BMI Calculator\n",
        "Write a program that calculates and categorizes Body Mass Index (BMI) based on weight (in kilograms) and height (in meters).\n",
        "\n",
        "Calculating BMI:\n",
        "\n",
        "* The program should take two float inputs, `weight` (in kilograms) and `height` (in meters). Then, the program should calculate the BMI using the formula: `BMI = weight / (height * height)`\n",
        "\n",
        "BMI Category:\n",
        "\n",
        "* The program should then use the BMI value and print the BMI category based on the following criteria:\n",
        "    *  If `bmi` is less than 18.5, print `\"Underweight.\"`\n",
        "    * If `bmi` is between 18.5 (inclusive) and 24.9 (inclusive), print `\"Normal weight.\"`\n",
        "    * If `bmi` is between 25 (inclusive) and 29.9 (inclusive), print `\"Overweight.\"`\n",
        "    * If `bmi` is greater than or equal to 30, print `\"Obese.\"`\n",
        "\n",
        "\n",
        "Sample output 1:\n",
        "```\n",
        "Enter weight (in kilograms): 84\n",
        "Enter height (in meters): 1.7\n",
        "Overweight\n",
        "```\n",
        "Sample output 2:\n",
        "```\n",
        "Enter weight (in kilograms): 75\n",
        "Enter height (in meters): 1.76\n",
        "Normal weight\n",
        "```\n",
        "Sample output 3:\n",
        "```\n",
        "Enter weight (in kilograms): 54\n",
        "Enter height (in meters): 1.67\n",
        "Normal weight\n",
        "```"
      ],
      "metadata": {
        "id": "WArXE2sWQXNm"
      }
    },
    {
      "cell_type": "code",
      "source": [
        "# insert your code for BMI Calculator"
      ],
      "metadata": {
        "id": "tP8ajKfiRJAn"
      },
      "execution_count": null,
      "outputs": []
    },
    {
      "cell_type": "markdown",
      "source": [
        "## Housing Loan\n",
        "Write a program that takes two inputs: a float `income` and an int `isMarried`. It should determine a person's eligibility for a loan based on the following rules and print the corresponding eligibility message:\n",
        "* If `income` is less than or equal to 50000 and `isMarried is 1`, print `\"Eligible for loan\"`\n",
        "* If `income` is less than or equal to 50000 but `isMarried` is 0, print `\"Not eligible for loan\"`\n",
        "* If `income` is greater than 50000, print `\"Eligible for housing loan\"`"
      ],
      "metadata": {
        "id": "8zDn6uswRLzW"
      }
    },
    {
      "cell_type": "code",
      "source": [
        "# insert your code for Housing Loan"
      ],
      "metadata": {
        "id": "Ni4bY33uRq9g"
      },
      "execution_count": null,
      "outputs": []
    },
    {
      "cell_type": "markdown",
      "source": [
        "## Shapes\n",
        "\n",
        "Write a program that takes an integer `numSides` as input. It should calculate and return the area of a geometric shape based on the following rules:\n",
        "\n",
        "*   If `numSides` is 3, it should calculate the area of a triangle. It should prompt the user to enter the base and height of the triangle and calculate the area using the formula `0.5 * base * height`.\n",
        "\n",
        "*   If `numSides` is 4, it should ask the user to choose between a rectangle or a square. If the user chooses a rectangle, it should prompt the user to enter the length and width of the rectangle and calculate the area as `length * width`. If the user chooses a square, it should prompt the user to enter the side length and calculate the area as `side * side`.\n",
        "\n",
        "*  If `numSides` is 0, it should calculate the area of a circle. It should prompt the user to enter the radius of the circle and calculate the area using the formula `π * radius * radius`, where π is the mathematical constant pi (you can use the `M_PI` constant from the math library).\n",
        "\n",
        "*   If `numSides` is any other value, it should print `\"Invalid number of sides!\".`\n",
        "\n",
        "* Print the area in two decimal places in the format: `\"The area of the shape is: {area}\"`\n",
        "\n",
        "\n",
        "Sample output 1:\n",
        "```\n",
        "Enter the number of sides: 3\n",
        "Enter the base length of the triangle: 10\n",
        "Enter the height of the triangle: 15\n",
        "The area of the shape is: 75.00\n",
        "```\n",
        "Sample output 2:\n",
        "```\n",
        "Enter the number of sides: 4\n",
        "Enter 1 for Rectangle or 2 for Square: 1\n",
        "Enter the length of the rectangle: 20\n",
        "Enter the width of the rectangle: 44\n",
        "The area of the shape is: 880.00\n",
        "```\n",
        "Sample output 3:\n",
        "```\n",
        "Enter the number of sides: 4\n",
        "Enter 1 for Rectangle or 2 for Square: 2\n",
        "Enter the side length of the square: 45\n",
        "The area of the shape is: 2025.00\n",
        "```"
      ],
      "metadata": {
        "id": "SjFo_av1Rsgm"
      }
    },
    {
      "cell_type": "code",
      "source": [
        "# insert your code for Shapes"
      ],
      "metadata": {
        "id": "EeUyEbr6Sp3e"
      },
      "execution_count": null,
      "outputs": []
    },
    {
      "cell_type": "markdown",
      "source": [
        "# 6. Iterative Structures"
      ],
      "metadata": {
        "id": "bGP8qUzbSr1E"
      }
    },
    {
      "cell_type": "markdown",
      "source": [
        "## Fizz Buzz\n",
        "Write a program that takes an integer `n`.\n",
        "\n",
        "You are required to write a program that generates a sequence of numbers based on a given integer input. The program should use `while loop` to loop from 1 to the given integer, and for each number, it should apply the following conditions:\n",
        "\n",
        "* If the number is divisible by 3, print `\"Fizz\"`\n",
        "* If the number is divisible by 5, print `\"Buzz\"`\n",
        "* If the number is divisible by both 3 and 5, print `\"FizzBuzz\"`\n",
        "* If none of the above conditions are met, print the number itself\n",
        "\n",
        "For instance, if the given integer input is 15, the program should generate the sequence: `1, 2, Fizz, 4, Buzz, Fizz, 7, 8, Fizz, Buzz, 11, Fizz, 13, 14, FizzBuzz.`\n",
        "\n",
        "Sample output:\n",
        "```\n",
        "Enter a positive integer: 25\n",
        "1\n",
        "2\n",
        "Fizz\n",
        "4\n",
        "Buzz\n",
        "Fizz\n",
        "7\n",
        "8\n",
        "Fizz\n",
        "Buzz\n",
        "11\n",
        "Fizz\n",
        "13\n",
        "14\n",
        "FizzBuzz\n",
        "16\n",
        "17\n",
        "Fizz\n",
        "19\n",
        "Buzz\n",
        "Fizz\n",
        "22\n",
        "23\n",
        "Fizz\n",
        "Buzz\n",
        "```"
      ],
      "metadata": {
        "id": "Yy0XMtxyS3Py"
      }
    },
    {
      "cell_type": "code",
      "source": [
        "# insert your code for Fizz Buzz"
      ],
      "metadata": {
        "id": "4xPSCMP6TUDO"
      },
      "execution_count": null,
      "outputs": []
    },
    {
      "cell_type": "markdown",
      "source": [
        "## Sum of Odd Numbers\n",
        "Write a program that takes an integer number. Use a `while loop` to calculate the sum of all odd numbers from 1 to the entered number and print it.\n",
        "\n",
        "Sample output 1:\n",
        "```\n",
        "Enter a positive integer: 15\n",
        "Sum of odd numbers: 64\n",
        "```\n",
        "Sample output 2:\n",
        "```\n",
        "Enter a positive integer: 9\n",
        "Sum of odd numbers: 25\n",
        "```"
      ],
      "metadata": {
        "id": "wNHKQyzHTW3h"
      }
    },
    {
      "cell_type": "code",
      "source": [
        "# insert your code for Sum of Odd Numbers"
      ],
      "metadata": {
        "id": "7NgkgYIJTvlU"
      },
      "execution_count": null,
      "outputs": []
    },
    {
      "cell_type": "markdown",
      "source": [
        "## Number Sequence with Conditional Printing\n",
        "Write a program that takes an integer `n`. Use a `for loop` to generate a number sequence based on certain conditions and print the sequence accordingly. The program follows the rules below:\n",
        "\n",
        "1. If a number is divisible by both 3 and 5, print the number multiplied by 3 on a new line.\n",
        "2. If a number is divisible by 3, print the number multiplied by 3 followed by a space.\n",
        "3. If a number is divisible by 5, print only a newline character.\n",
        "4. For any other number, print the number followed by a space.\n",
        "\n",
        "Sample output 1:\n",
        "```\n",
        "Enter a positive integer: 20\n",
        "1 2 9 4\n",
        "18 7 8 27\n",
        "11 36 13 14 45\n",
        "16 17 54 19\n",
        "```\n",
        "Sample output 2:\n",
        "```\n",
        "Enter a positive integer: 30\n",
        "1 2 9 4\n",
        "18 7 8 27\n",
        "11 36 13 14 45\n",
        "16 17 54 19\n",
        "63 22 23 72\n",
        "26 81 28 29 90\n",
        "```"
      ],
      "metadata": {
        "id": "wcdgt4QeTxnD"
      }
    },
    {
      "cell_type": "code",
      "source": [
        "# insert your code for Number Sequence with Conditional Printing"
      ],
      "metadata": {
        "id": "pwJJEGO3ULKE"
      },
      "execution_count": null,
      "outputs": []
    },
    {
      "cell_type": "markdown",
      "source": [
        "## Reverse of Digits\n",
        "Write a program that takes an integer `n`. Using a `for loop`, get the reverse of the digits of the entered number and print it.\n",
        "\n",
        "Sample output:\n",
        "```\n",
        "Enter a positive integer: 12345\n",
        "Reverse of digits: 54321\n",
        "```"
      ],
      "metadata": {
        "id": "h-rYtzsXUQKP"
      }
    },
    {
      "cell_type": "code",
      "source": [
        "# insert your code for Reverse of Digits"
      ],
      "metadata": {
        "id": "ngoMzHjjUcHx"
      },
      "execution_count": null,
      "outputs": []
    },
    {
      "cell_type": "markdown",
      "source": [
        "## Raise the Flag\n",
        "Write a program that takes an integer input `n` and prints a flag to the console made up of asterisks. The flag should have `n` rows and `2n` columns, with the top half of the flag being the same as the bottom half, except flipped horizontally.\n",
        "\n",
        "Sample output 1:\n",
        "```\n",
        "Enter a number: 3\n",
        "*    *\n",
        "**  **\n",
        "******\n",
        "******\n",
        "**  **\n",
        "*    *\n",
        "```\n",
        "Sample output 2:\n",
        "```\n",
        "Enter a number: 10\n",
        "*                  *\n",
        "**                **\n",
        "***              ***\n",
        "****            ****\n",
        "*****          *****\n",
        "******        ******\n",
        "*******      *******\n",
        "********    ********\n",
        "*********  *********\n",
        "********************\n",
        "********************\n",
        "*********  *********\n",
        "********    ********\n",
        "*******      *******\n",
        "******        ******\n",
        "*****          *****\n",
        "****            ****\n",
        "***              ***\n",
        "**                **\n",
        "*                  *\n",
        "```"
      ],
      "metadata": {
        "id": "LZs18eGkUefz"
      }
    },
    {
      "cell_type": "code",
      "source": [
        "# insert your code for Raise the Flag"
      ],
      "metadata": {
        "id": "VRNS1BWhVC4h"
      },
      "execution_count": null,
      "outputs": []
    },
    {
      "cell_type": "markdown",
      "source": [
        "## Inverted Pyramid Pattern\n",
        "Write a program that takes an integer `height` of the pyramid. Use `nested loops` to print an inverted pyramid pattern using asterisks (*) with the specified height.\n",
        "\n",
        "Sample output:\n",
        "```\n",
        "Enter the height of the inverted pyramid: 5\n",
        "*********\n",
        " *******\n",
        "  *****\n",
        "   ***\n",
        "    *\n",
        "```"
      ],
      "metadata": {
        "id": "t6lVDImLVFtb"
      }
    },
    {
      "cell_type": "code",
      "source": [
        "# insert your code for Inverted Pyramid Pattern"
      ],
      "metadata": {
        "id": "Jh5UbWKXVcn6"
      },
      "execution_count": null,
      "outputs": []
    },
    {
      "cell_type": "markdown",
      "source": [
        "## Vowel Count with Break Statement\n",
        "Write a program that takes a string which serves as the `word`. Count the number of vowels in the `word` using a loop. If the letter `'x'` or `'X'` is encountered, the program should stop counting and display the message `\"Vowel count stopped!\".`\n",
        "\n",
        "Sample output 1:\n",
        "```\n",
        "Enter a word: codeXchum\n",
        "Vowel count stopped!\n",
        "Number of vowels: 2\n",
        "```\n",
        "Sample output 2:\n",
        "```\n",
        "Enter a word: helloworld!\n",
        "Number of vowels: 3\n",
        "```"
      ],
      "metadata": {
        "id": "gynSPw5NVfYl"
      }
    },
    {
      "cell_type": "code",
      "source": [
        "# insert your code for Vowel Count with Break Statement"
      ],
      "metadata": {
        "id": "35fRwdJxV20z"
      },
      "execution_count": null,
      "outputs": []
    },
    {
      "cell_type": "markdown",
      "source": [
        "## Fibonacci Number Generator\n",
        "Write a program that takes an integer `limit`. Generate and print the Fibonacci sequence up to the given limit. However, if a number in the sequence exceeds 500, the program should break out of the loop and print `\"Fibonacci limit exceeded!\".`\n",
        "\n",
        "Sample output 1:\n",
        "```\n",
        "Enter the limit: 1000\n",
        "0 1 1 2 3 5 8 13 21 34 55 89 144 233 377 610\n",
        "Fibonacci limit exceeded!\n",
        "```\n",
        "Sample output 2:\n",
        "```\n",
        "Enter the limit: 500\n",
        "0 1 1 2 3 5 8 13 21 34 55 89 144 233 377\n",
        "```"
      ],
      "metadata": {
        "id": "GtsmGtXWV7yv"
      }
    },
    {
      "cell_type": "code",
      "source": [
        "# insert your code for Fibonacci Number Generator"
      ],
      "metadata": {
        "id": "dD940eUVWTHm"
      },
      "execution_count": null,
      "outputs": []
    },
    {
      "cell_type": "markdown",
      "source": [
        "## Letter Printer\n",
        "Write a program that uses a loop to print the letters of the alphabet from 'A' to 'Z' but skips the letter `'E'`. Use `continue` keyword in the loop.\n",
        "\n",
        "Sample output:\n",
        "```\n",
        "A B C D F G H I J K L M N O P Q R S T U V W X Y Z\n",
        "```"
      ],
      "metadata": {
        "id": "r_z_sdUAWXh_"
      }
    },
    {
      "cell_type": "code",
      "source": [
        "# insert your code for Letter Printer"
      ],
      "metadata": {
        "id": "y0_jYb-oWoaE"
      },
      "execution_count": null,
      "outputs": []
    },
    {
      "cell_type": "markdown",
      "source": [
        "## Counting Vowels in a Word\n",
        "Write a program that takes a string. Use a loop to count and print the number of uppercased and lowercased vowels in the word. The program should utilize the `continue` statement to skip consonants, ensuring they are not included in the vowel count.\n",
        "\n",
        "Sample ouput 1:\n",
        "```\n",
        "Enter a word: CONTINUEstatement\n",
        "Number of Uppercase Vowels: 4\n",
        "Number of Lowercase Vowels: 3\n",
        "```\n",
        "\n",
        "Sample output 2:\n",
        "```\n",
        "Enter a word: testing\n",
        "Number of Uppercase Vowels: 0\n",
        "Number of Lowercase Vowels: 2\n",
        "```"
      ],
      "metadata": {
        "id": "v-bm8LPdWqyS"
      }
    },
    {
      "cell_type": "markdown",
      "source": [
        "# 7. Lists"
      ],
      "metadata": {
        "id": "fkFYzKbHW7_Y"
      }
    },
    {
      "cell_type": "markdown",
      "source": [
        "## Prime Square\n",
        "Write a Python program that takes an integer n and generates a list of n sub-lists, each containing n elements. The value of each element should be 1 if the index of that element is a prime number, and 0 otherwise.\n",
        "\n",
        "Sample output 1:\n",
        "```\n",
        "Enter the value of n: 2\n",
        "Prime Square:\n",
        "[[0, 1], [1, 0]]\n",
        "```\n",
        "\n",
        "Sample output 2:\n",
        "```\n",
        "Enter the value of n: 4\n",
        "Prime Square:\n",
        "[[0, 1, 1, 0], [1, 0, 1, 0], [0, 0, 1, 0], [1, 0, 0, 0]]\n",
        "```"
      ],
      "metadata": {
        "id": "HlXafrXgXAqG"
      }
    },
    {
      "cell_type": "code",
      "source": [
        "# insert your code for Prime Square"
      ],
      "metadata": {
        "id": "e3iU5nEEXVBQ"
      },
      "execution_count": null,
      "outputs": []
    },
    {
      "cell_type": "markdown",
      "source": [
        "## List Reversal\n",
        "Write a Python program that takes a list of integers as input from the user through the terminal, reverses the order of the elements in the list, and outputs the reversed list to the terminal.\n",
        "\n",
        "Sample output 1:\n",
        "```\n",
        "Enter the list of integers separated by space: 5 4 3 2 1\n",
        "Reversed list: [1, 2, 3, 4, 5]\n",
        "```\n",
        "Sample output 2:\n",
        "```\n",
        "Enter the list of integers separated by space: 5 1 5 1\n",
        "Reversed list: [1, 5, 1, 5]\n",
        "```"
      ],
      "metadata": {
        "id": "lGuqo0ZSXX7n"
      }
    },
    {
      "cell_type": "code",
      "source": [
        "# insert your code for List Reversal"
      ],
      "metadata": {
        "id": "-LR7jDH8Xh16"
      },
      "execution_count": null,
      "outputs": []
    },
    {
      "cell_type": "markdown",
      "source": [
        "## List Zipper Merge\n",
        "Write a Python program that takes two lists of integers as input and prints a single list that alternates between the elements of the two input lists.\n",
        "\n",
        "Sample output 1:\n",
        "```\n",
        "Enter first list: 1 2 3\n",
        "Enter second list: 4 5 6\n",
        "Merged list: [1, 4, 2, 5, 3, 6]\n",
        "```\n",
        "\n",
        "Sample output 2:\n",
        "```\n",
        "Enter first list: 1 1 1\n",
        "Enter second list: 2 3 4\n",
        "Merged list: [1, 2, 1, 3, 1, 4]\n",
        "```"
      ],
      "metadata": {
        "id": "R79WjN__Xkr7"
      }
    },
    {
      "cell_type": "code",
      "source": [
        "# insert your code for List Zipper Merge"
      ],
      "metadata": {
        "id": "p9jPKNIcXxjh"
      },
      "execution_count": null,
      "outputs": []
    },
    {
      "cell_type": "markdown",
      "source": [
        "## Perfect Square List\n",
        "Write a Python program that takes a list of integers as input and it should generate a list of all perfect squares in the list.\n",
        "\n",
        "Sample output 1:\n",
        "```\n",
        "Enter a list of integers separated by spaces: 1 2 3 4 5 6 7 8 9 10\n",
        "Perfect Squares in the List:\n",
        "[1, 4, 9]\n",
        "```\n",
        "Sample output 2:\n",
        "```\n",
        "Enter a list of integers separated by spaces: 34\n",
        "Perfect Squares in the List:\n",
        "[]\n",
        "```"
      ],
      "metadata": {
        "id": "GWSVsQzNX0st"
      }
    },
    {
      "cell_type": "code",
      "source": [
        "# insert your code for Perfect Square List"
      ],
      "metadata": {
        "id": "TJC4jhRHYO5F"
      },
      "execution_count": null,
      "outputs": []
    },
    {
      "cell_type": "markdown",
      "source": [
        "## List Rotation\n",
        "Write a Python program that takes a list of integers as input and rotates the list to the right by a specified number of positions. The program should return the rotated list.\n",
        "\n",
        "Sample output 1:\n",
        "```\n",
        "Enter the list of integers separated by space: 1 2 3\n",
        "Enter the number of positions to rotate to the right: 2\n",
        "[2, 3, 1]\n",
        "```\n",
        "Sample output 2:\n",
        "```\n",
        "Enter the list of integers separated by space: 1 2 3 4 5\n",
        "Enter the number of positions to rotate to the right: 3\n",
        "[3, 4, 5, 1, 2]\n",
        "```\n",
        "Sample output 3:\n",
        "```\n",
        "Enter the list of integers separated by space: 5 5 5 1 5 5 5\n",
        "Enter the number of positions to rotate to the right: 4\n",
        "[1, 5, 5, 5, 5, 5, 5]\n",
        "```"
      ],
      "metadata": {
        "id": "VHRs6jd2YSV8"
      }
    },
    {
      "cell_type": "code",
      "source": [
        "# insert your code for List Rotation"
      ],
      "metadata": {
        "id": "9py7BWk5YhoC"
      },
      "execution_count": null,
      "outputs": []
    },
    {
      "cell_type": "markdown",
      "source": [
        "## List Intersection\n",
        "Write a program that takes two lists as inputs and prints a new list containing only the common elements between the two lists. The program should print the common elements in the order they appear in the first list.\n",
        "\n",
        "Sample output 1:\n",
        "```\n",
        "Enter first list of integers separated by space: 1 2 3\n",
        "Enter second list of integers separated by space: 2 3 4\n",
        "Common elements:  [2, 3]\n",
        "```\n",
        "Sample output 2:\n",
        "```\n",
        "Enter first list of integers separated by space: 1 2 3\n",
        "Enter second list of integers separated by space: 4 5 6\n",
        "Common elements:  []\n",
        "```\n",
        "Sample output 3:\n",
        "```\n",
        "Enter first list of integers separated by space: 1 2 3\n",
        "Enter second list of integers separated by space: 12 3\n",
        "Common elements:  [3]\n",
        "```"
      ],
      "metadata": {
        "id": "nm4xS-M0Zuyn"
      }
    },
    {
      "cell_type": "code",
      "source": [
        "# insert your code for List Intersection"
      ],
      "metadata": {
        "id": "KTftGnLEZ_SN"
      },
      "execution_count": null,
      "outputs": []
    },
    {
      "cell_type": "markdown",
      "source": [
        "## Fibonacci Series\n",
        "Write a Python program that takes a number n as input and prints a list of the first n numbers in the Fibonacci series.\n",
        "\n",
        "Sample output 1:\n",
        "```\n",
        "Enter the number of terms for Fibonacci series: 5\n",
        "Fibonacci Series: [0, 1, 1, 2, 3]\n",
        "```\n",
        "Sample output 2:\n",
        "```\n",
        "Enter the number of terms for Fibonacci series: 7\n",
        "Fibonacci Series: [0, 1, 1, 2, 3, 5, 8]\n",
        "```"
      ],
      "metadata": {
        "id": "CpKgkF_maB40"
      }
    },
    {
      "cell_type": "code",
      "source": [
        "# insert your code for Fibonacci Series"
      ],
      "metadata": {
        "id": "3qkXwsYjaNpI"
      },
      "execution_count": null,
      "outputs": []
    },
    {
      "cell_type": "markdown",
      "source": [
        "## List Unique Elements\n",
        "Write a Python program that takes a list of integers as input and returns a new list containing only the unique elements of the input list.\n",
        "\n",
        "Sample output:\n",
        "```\n",
        "Enter a list of integers separated by space: 1 1 2 3 3 4\n",
        "Unique elements list: [1, 2, 3, 4]\n",
        "```"
      ],
      "metadata": {
        "id": "zeqwM7tdaQNk"
      }
    },
    {
      "cell_type": "code",
      "source": [
        "# insert your code for List Unique Elements"
      ],
      "metadata": {
        "id": "Yx3cJ3OhabUP"
      },
      "execution_count": null,
      "outputs": []
    },
    {
      "cell_type": "markdown",
      "source": [
        "## Remove Nth Element\n",
        "Write a Python program that takes a list of integers and an integer n as input and removes the nth element from the list.\n",
        "\n",
        "Sample output 1:\n",
        "```\n",
        "Enter the numbers separated by space: 1 2 3 4 5\n",
        "Enter the index of element to remove (1-based index): 3\n",
        "List after removing element: [1, 2, 4, 5]\n",
        "```\n",
        "Sample output 2:\n",
        "```\n",
        "Enter the numbers separated by space: 10 40 50 12 141 15 1568 12 13124\n",
        "Enter the index of element to remove (1-based index): 5\n",
        "List after removing element: [10, 40, 50, 12, 15, 1568, 12, 13124]\n",
        "```"
      ],
      "metadata": {
        "id": "_M5nu-Esaed7"
      }
    },
    {
      "cell_type": "code",
      "source": [
        "# insert your code for Remove Nth Element"
      ],
      "metadata": {
        "id": "Kya5M-a4arUv"
      },
      "execution_count": null,
      "outputs": []
    },
    {
      "cell_type": "markdown",
      "source": [
        "## List Maximum Difference\n",
        "Write a Python program that takes a list of integers as input and returns the maximum difference between any two elements in the list.\n",
        "\n",
        "Sample output 1:\n",
        "```\n",
        "Enter a list of integers separated by space: 1 2 3 4 5\n",
        "Maximum difference between any two elements in the list: 4\n",
        "```\n",
        "Sample output 2:\n",
        "```\n",
        "Enter a list of integers separated by space: 5 10 15 20 30\n",
        "Maximum difference between any two elements in the list: 25\n",
        "```\n",
        "Sample output 3:\n",
        "```\n",
        "Enter a list of integers separated by space: 1 2\n",
        "Maximum difference between any two elements in the list: 1\n",
        "```"
      ],
      "metadata": {
        "id": "DVd1u8_yavWP"
      }
    },
    {
      "cell_type": "code",
      "source": [
        "# insert your code for List Maximum Difference"
      ],
      "metadata": {
        "id": "RLwQjhjpa-Gz"
      },
      "execution_count": null,
      "outputs": []
    },
    {
      "cell_type": "markdown",
      "source": [
        "# 8. Tuples"
      ],
      "metadata": {
        "id": "_RCapjKxYkkj"
      }
    },
    {
      "cell_type": "markdown",
      "source": [
        "## Tuple Subtraction\n",
        "Given two tuples `a` and `b` of the same length, create a function that returns a new tuple containing the result of subtracting each element of `b` from the corresponding element of `a`.\n",
        "\n",
        "Sample output 1:\n",
        "```\n",
        "Enter the first tuple of integers: 1 2 3\n",
        "Enter the second tuple of integers: 1 1 1\n",
        "Tuple Subtraction Result: (0, 1, 2)\n",
        "```\n",
        "Sample output 2:\n",
        "```\n",
        "Enter the first tuple of integers: 5 10 15\n",
        "Enter the second tuple of integers: 2 5 8\n",
        "Tuple Subtraction Result: (3, 5, 7)\n",
        "```\n",
        "Sample output 3:\n",
        "```\n",
        "Enter the first tuple of integers: 0 0 0\n",
        "Enter the second tuple of integers: 1 1 1\n",
        "Tuple Subtraction Result: (-1, -1, -1)\n",
        "```"
      ],
      "metadata": {
        "id": "weXUBLkuYm4B"
      }
    },
    {
      "cell_type": "code",
      "source": [
        "# insert your code for Tuple Subtraction"
      ],
      "metadata": {
        "id": "m6fT9Vy1b1g-"
      },
      "execution_count": null,
      "outputs": []
    },
    {
      "cell_type": "markdown",
      "source": [
        "## Slicing Tuples\n",
        "Create a tuple with the elements `(10, 20, 30, 40, 50, 60, 70, 80, 90)`. Print a slice of the tuple from the third to the seventh element.\n",
        "\n",
        "Sample output:\n",
        "```\n",
        "Sliced Tuple: (30, 40, 50, 60, 70)\n",
        "```"
      ],
      "metadata": {
        "id": "Jcm2uQbEb4If"
      }
    },
    {
      "cell_type": "code",
      "source": [
        "# insert your code for Slicing Tuples"
      ],
      "metadata": {
        "id": "1ZXolZNrcEkm"
      },
      "execution_count": null,
      "outputs": []
    },
    {
      "cell_type": "markdown",
      "source": [
        "## Check for Element in Tuple\n",
        "Create a tuple with the elements `(100, 200, 300, 400, 500)`. Ask the user to input a number and check if this number is present in the tuple. Print the result.\n",
        "\n",
        "Sample output 1:\n",
        "```\n",
        "Enter a number: 100\n",
        "Is the number in the tuple? True\n",
        "```\n",
        "Sample output 2:\n",
        "```\n",
        "Enter a number: -100\n",
        "Is the number in the tuple? False\n",
        "```"
      ],
      "metadata": {
        "id": "U_-4QAUocH3Z"
      }
    },
    {
      "cell_type": "code",
      "source": [
        "# insert your code for Check for Element in Tuple"
      ],
      "metadata": {
        "id": "r2UPaKnqcfKZ"
      },
      "execution_count": null,
      "outputs": []
    },
    {
      "cell_type": "markdown",
      "source": [
        "## Tuple for Tuples\n",
        "Write a program that asks to input two sets of numbers separated by spaces. Create two tuples from these numbers and then create a tuple of these two tuples. Print the resulting tuple of tuples.\n",
        "\n",
        "Sample output 1:\n",
        "```\n",
        "Enter first set of numbers separated by spaces: 1 5 6 7 8\n",
        "Enter second set of numbers separated by spaces: 2 3 5 1 3\n",
        "Tuple of Tuples: ((1, 5, 6, 7, 8), (2, 3, 5, 1, 3))\n",
        "```\n",
        "Sample output 2:\n",
        "```\n",
        "Enter first set of numbers separated by spaces: 0 1 2\n",
        "Enter second set of numbers separated by spaces: -1 -2 -3\n",
        "Tuple of Tuples: ((0, 1, 2), (-1, -2, -3))\n",
        "```\n",
        "Sample output 3:\n",
        "```\n",
        "Enter first set of numbers separated by spaces: 9 9 9 9\n",
        "Enter second set of numbers separated by spaces: 8 8 8 8\n",
        "Tuple of Tuples: ((9, 9, 9, 9), (8, 8, 8, 8))\n",
        "```"
      ],
      "metadata": {
        "id": "-6EquMQHcjF-"
      }
    },
    {
      "cell_type": "code",
      "source": [
        "# insert your code for Tuple for Tuples"
      ],
      "metadata": {
        "id": "QKgHW5bdcwVf"
      },
      "execution_count": null,
      "outputs": []
    },
    {
      "cell_type": "markdown",
      "source": [
        "## Zipping Tuples\n",
        "Write a program that asks to input two sets of numbers separated by spaces. Create two tuples from these numbers and zip them together to create a tuple of pairs. Print the resulting zipped tuple.\n",
        "\n",
        "Sample output 1:\n",
        "```\n",
        "Enter first set of numbers separated by spaces: 213 1254 125 125 125 125\n",
        "Enter second set of numbers separated by spaces: 123 125 51 25 25\n",
        "Zipped Tuple: ((213, 123), (1254, 125), (125, 51), (125, 25), (125, 25))\n",
        "```\n",
        "Sample output 2:\n",
        "```\n",
        "Enter first set of numbers separated by spaces: 1 2 3 4\n",
        "Enter second set of numbers separated by spaces: 1 2 3 4\n",
        "Zipped Tuple: ((1, 1), (2, 2), (3, 3), (4, 4))\n",
        "```\n",
        "Sample output 3:\n",
        "```\n",
        "Enter first set of numbers separated by spaces: 1 2 3\n",
        "Enter second set of numbers separated by spaces: -1 -2 -3\n",
        "Zipped Tuple: ((1, -1), (2, -2), (3, -3))\n",
        "```"
      ],
      "metadata": {
        "id": "1Ks7eMzncvjl"
      }
    },
    {
      "cell_type": "code",
      "source": [
        "# insert your code for Zipping Tuples"
      ],
      "metadata": {
        "id": "MCv5wIKRdFCE"
      },
      "execution_count": null,
      "outputs": []
    },
    {
      "cell_type": "markdown",
      "source": [
        "## Tuple Complement\n",
        "Given a tuple `a` and a number `n`, create a program that prints a new tuple containing all numbers from 1 to `n` that are not in the original tuple.\n",
        "\n",
        "Sample output 1:\n",
        "```\n",
        "Enter a tuple of integers: 1 3 5 7\n",
        "Enter the value of n: 10\n",
        "Tuple Complement: (2, 4, 6, 8, 9, 10)\n",
        "```\n",
        "Sample output 2:\n",
        "```\n",
        "Enter a tuple of integers: 5\n",
        "Enter the value of n: 8\n",
        "Tuple Complement: (1, 2, 3, 4, 6, 7, 8)\n",
        "```\n",
        "Sample output 3:\n",
        "```\n",
        "Enter a tuple of integers: 1 2 3 4 5\n",
        "Enter the value of n: 5\n",
        "Tuple Complement: ()\n",
        "```"
      ],
      "metadata": {
        "id": "NkroSQaPdJel"
      }
    },
    {
      "cell_type": "code",
      "source": [
        "# insert your code for Tuple Complement"
      ],
      "metadata": {
        "id": "yfdcOIcBdZwM"
      },
      "execution_count": null,
      "outputs": []
    },
    {
      "cell_type": "markdown",
      "source": [
        "## Tuple Operations with Multiple Tuples\n",
        "Write a program that asks to input three sets of numbers separated by spaces. Create three tuples from these numbers. Perform union and intersection operations on these tuples and print the results.\n",
        "\n",
        "Sample output 1:\n",
        "```\n",
        "Enter first set of numbers separated by spaces: 1 2 3\n",
        "Enter second set of numbers separated by spaces: 2 3 4\n",
        "Enter third set of numbers separated by spaces: 3 4 5\n",
        "Union of all three tuples: {1, 2, 3, 4, 5}\n",
        "Intersection of all three tuples: {3}\n",
        "```\n",
        "Sample output 2:\n",
        "```\n",
        "Enter first set of numbers separated by spaces: 10 20 30\n",
        "Enter second set of numbers separated by spaces: 20 30 40\n",
        "Enter third set of numbers separated by spaces: 30 40 50\n",
        "Union of all three tuples: {50, 20, 40, 10, 30}\n",
        "Intersection of all three tuples: {30}\n",
        "```\n",
        "Sample output 3:\n",
        "```\n",
        "Enter first set of numbers separated by spaces: 5 10 15\n",
        "Enter second set of numbers separated by spaces: 10 15 20\n",
        "Enter third set of numbers separated by spaces: 15 20 25\n",
        "Union of all three tuples: {20, 5, 25, 10, 15}\n",
        "Intersection of all three tuples: {15}\n",
        "```"
      ],
      "metadata": {
        "id": "QLFsC4N8dcqW"
      }
    },
    {
      "cell_type": "code",
      "source": [
        "# insert your code for Tuple Operations with Multiple Tuples"
      ],
      "metadata": {
        "id": "awQ-QopydvOS"
      },
      "execution_count": null,
      "outputs": []
    },
    {
      "cell_type": "markdown",
      "source": [
        "## Finding Common Elements in Multiple Tuples\n",
        "Write a program that asks to input three sets of numbers separated by spaces. Create three tuples from these numbers. Find and print the common elements among all three tuples.\n",
        "\n",
        "Sample output 1:\n",
        "```\n",
        "Enter first set of numbers separated by spaces: 2 4 6 8\n",
        "Enter second set of numbers separated by spaces: 4 6 8 10\n",
        "Enter third set of numbers separated by spaces: 6 8 10 12\n",
        "Common elements in all three tuples: {8, 6}\n",
        "```\n",
        "Sample output 2:\n",
        "```\n",
        "Enter first set of numbers separated by spaces: 3 6 9\n",
        "Enter second set of numbers separated by spaces: 6 9 12\n",
        "Enter third set of numbers separated by spaces: 9 12 15\n",
        "Common elements in all three tuples: {9}\n",
        "```\n",
        "Sample output 3:\n",
        "```\n",
        "Enter first set of numbers separated by spaces: 1 1 2 3 5\n",
        "Enter second set of numbers separated by spaces: 1 2 3 5 8\n",
        "Enter third set of numbers separated by spaces: 1 3 5 7 9\n",
        "Common elements in all three tuples: {1, 3, 5}\n",
        "```"
      ],
      "metadata": {
        "id": "N_XfQz-0dy-U"
      }
    },
    {
      "cell_type": "code",
      "source": [
        "# insert your code for Finding Common Elements in Multiple Tuples"
      ],
      "metadata": {
        "id": "wsMFkzmfgvQL"
      },
      "execution_count": null,
      "outputs": []
    },
    {
      "cell_type": "markdown",
      "source": [
        "## Tuple Median\n",
        "Write a Python program that takes a tuple containing integers as input and prints the median value of the elements in the tuple.\n",
        "\n",
        "Sample output 1:\n",
        "```\n",
        "Enter a tuple of integers: 11 13 15 17 19 21\n",
        "Tuple Median: 16.0\n",
        "```\n",
        "Sample output 2:\n",
        "```\n",
        "Enter a tuple of integers: 10 20 30 40 67\n",
        "Tuple Median: 30.0\n",
        "```\n",
        "Sample output 3:\n",
        "```\n",
        "Enter a tuple of integers: 1 2 3 4 5\n",
        "Tuple Median: 3.0\n",
        "```"
      ],
      "metadata": {
        "id": "4-6BjD0Qg8Pb"
      }
    },
    {
      "cell_type": "code",
      "source": [
        "# insert your code for Tuple Median"
      ],
      "metadata": {
        "id": "lKHxEFgihbzr"
      },
      "execution_count": null,
      "outputs": []
    },
    {
      "cell_type": "markdown",
      "source": [
        "## Finding the Length of a Tuple\n",
        "Write a program that asks to input several elements separated by spaces. Create a tuple from these elements and print the length of the tuple.\n",
        "\n",
        "Sample output:\n",
        "```\n",
        "Enter elements separated by spaces: 1 2 3 4 5 6\n",
        "Length of Tuple: 6\n",
        "```"
      ],
      "metadata": {
        "id": "kHnZOb6nhdiO"
      }
    },
    {
      "cell_type": "code",
      "source": [
        "# insert your code for Finding the Length of a Tuple"
      ],
      "metadata": {
        "id": "LHA4wACWhpuy"
      },
      "execution_count": null,
      "outputs": []
    },
    {
      "cell_type": "markdown",
      "source": [
        "# 9. Sets"
      ],
      "metadata": {
        "id": "3DWJiRINhqMp"
      }
    },
    {
      "cell_type": "markdown",
      "source": [
        "## Adding Elements\n",
        "Write a program that adds the element 6 to the set `{1, 2, 3, 4, 5}` and print the result.\n",
        "\n",
        "Sample output:\n",
        "```\n",
        "Initial set: {1, 2, 3, 4, 5}\n",
        "Final set: {1, 2, 3, 4, 5, 6}\n",
        "```"
      ],
      "metadata": {
        "id": "FcwcAXbTy8tF"
      }
    },
    {
      "cell_type": "code",
      "source": [
        "# insert your code for Adding Elements"
      ],
      "metadata": {
        "id": "G5B7Vx4dzEbM"
      },
      "execution_count": null,
      "outputs": []
    },
    {
      "cell_type": "markdown",
      "source": [
        "## Common Elements\n",
        "Write a program that has sets, `A = {1, 2, 3, 4}`, `B = {3, 4, 5, 6}`, and `C = {4, 5, 6, 7}`, print the sets and find the common elements present in all three sets, and print the result.\n",
        "\n",
        "Sample output:\n",
        "```\n",
        "A: {1, 2, 3, 4}\n",
        "B: {3, 4, 5, 6}\n",
        "C: {4, 5, 6, 7}\n",
        "Common elements in all three sets: {4}\n",
        "```"
      ],
      "metadata": {
        "id": "XEFwz8QFiMDL"
      }
    },
    {
      "cell_type": "code",
      "source": [
        "# insert your code for Common Elements"
      ],
      "metadata": {
        "id": "YK_EM8AoxVx0"
      },
      "execution_count": null,
      "outputs": []
    },
    {
      "cell_type": "markdown",
      "source": [
        "## Set Equality\n",
        "\n",
        "Write a program that takes two sets as input and prints `\"The sets are equal\"` if they are equal (i.e., have the same elements), otherwise, `it prints \"The sets are not equal\".`\n",
        "\n",
        "Sample output 1:\n",
        "```\n",
        "Enter the first set: 1 2 3\n",
        "Enter the second set: 3 1 2\n",
        "The sets are equal\n",
        "```\n",
        "Sample output 2:\n",
        "```\n",
        "Enter the first set: 1 4 3\n",
        "Enter the second set: 2 1 4\n",
        "The sets are not equal\n",
        "```\n"
      ],
      "metadata": {
        "id": "Hb3doMpJ6X0H"
      }
    },
    {
      "cell_type": "code",
      "source": [
        "# insert your code for Set Equality"
      ],
      "metadata": {
        "id": "dsoSzUPn6kQH"
      },
      "execution_count": null,
      "outputs": []
    },
    {
      "cell_type": "markdown",
      "source": [
        "## Iterate Over Set\n",
        "\n",
        "Write a program that has a set with elements from numbers 1 to 5. Print the set first, then print the elements of the set each separated by a newline.\n",
        "\n",
        "Sample output:\n",
        "```\n",
        "The set is: {1, 2, 3, 4, 5}\n",
        "Elements of the set:\n",
        "1\n",
        "2\n",
        "3\n",
        "4\n",
        "5\n",
        "```"
      ],
      "metadata": {
        "id": "D-dNWQcAyXqE"
      }
    },
    {
      "cell_type": "code",
      "source": [
        "# insert your code for Iterate Over Set"
      ],
      "metadata": {
        "id": "eB8HbeqJyeq1"
      },
      "execution_count": null,
      "outputs": []
    },
    {
      "cell_type": "markdown",
      "source": [
        "## Set Cardinality with Duplicates\n",
        "\n",
        "Write a Python program that takes a set as input and prints the cardinality of the resulting set. Given a list of integers, remove duplicates and print the cardinality of the resulting set.\n",
        "\n",
        "Sample output 1:\n",
        "```\n",
        "Enter a list of integers separated by space: 1 1 1 1 1 1\n",
        "The cardinality of the set formed by removing duplicates from [1, 1, 1, 1, 1, 1] is 1.\n",
        "```\n",
        "Sample output 2:\n",
        "```\n",
        "Enter a list of integers separated by space: 1 2 3 4 4 5\n",
        "The cardinality of the set formed by removing duplicates from [1, 2, 3, 4, 4, 5] is 5.\n",
        "```\n",
        "Sample output 3:\n",
        "```\n",
        "Enter a list of integers separated by space: 1\n",
        "The cardinality of the set formed by removing duplicates from [1] is 1.\n",
        "```\n"
      ],
      "metadata": {
        "id": "GG8uM2E5yixs"
      }
    },
    {
      "cell_type": "code",
      "source": [
        "# insert your code for Set Cardinality with Duplicates"
      ],
      "metadata": {
        "id": "jWWgJT7ly1Pt"
      },
      "execution_count": null,
      "outputs": []
    },
    {
      "cell_type": "markdown",
      "source": [
        "## Subset Check\n",
        "Write a program that asks for two sets. Ask for the element of the set in one line and elements separated by spaces. Check if the first set is a subset of the second set and print the result.\n",
        "\n",
        "Sample output 1:\n",
        "```\n",
        "Enter elements of the first set: 1 2\n",
        "Enter elements of the second set: 1 2 3\n",
        "Result: True\n",
        "```\n",
        "Sample output 2:\n",
        "```\n",
        "Enter elements of the first set: 5 10 15 20 25 30\n",
        "Enter elements of the second set: 5 10 15 20 25 30 35 40 45\n",
        "Result: True\n",
        "```\n",
        "Sample output 3:\n",
        "```\n",
        "Enter elements of the first set: -10 -9 -8 -7 -6 -5 -4 -3 -2 -1\n",
        "Enter elements of the second set: 1 2 3 4 5 6 7 8 9 10\n",
        "Result: False\n",
        "```"
      ],
      "metadata": {
        "id": "P1EfBEJQyFWz"
      }
    },
    {
      "cell_type": "code",
      "source": [
        "# insert your code for Subset Check"
      ],
      "metadata": {
        "id": "PziRc_MUySgE"
      },
      "execution_count": null,
      "outputs": []
    },
    {
      "cell_type": "markdown",
      "source": [
        "## Set Is Subset of Any Set\n",
        "Write a Python program that takes in a set and a list of sets and prints `\"Input set is a subset of at least one set in the list.\"` if the set is a subset of any of the sets in the list, otherwise, print `\"Input set is not a subset of any set in the list.\"`\n",
        "\n",
        "Sample output 1:\n",
        "```\n",
        "Enter the number of sets in the list: 4\n",
        "Enter set 1, separated by spaces: 1 2\n",
        "Enter set 2, separated by spaces: 3 4\n",
        "Enter set 3, separated by spaces: 5 6\n",
        "Enter set 4, separated by spaces: 7 8\n",
        "Enter a set of integers, separated by spaces: 3 4\n",
        "Input set is a subset of at least one set in the list.\n",
        "```\n",
        "Sample output 2:\n",
        "```\n",
        "Enter the number of sets in the list: 2\n",
        "Enter set 1, separated by spaces: 1 2 3 4 5\n",
        "Enter set 2, separated by spaces: 6 7 8 9 10\n",
        "Enter a set of integers, separated by spaces: 10 6\n",
        "Input set is a subset of at least one set in the list.\n",
        "```\n",
        "Sample output 3:\n",
        "```\n",
        "Enter the number of sets in the list: 3\n",
        "Enter set 1, separated by spaces: 1 2 3\n",
        "Enter set 2, separated by spaces: 4 5 6\n",
        "Enter set 3, separated by spaces: 7 8 9\n",
        "Enter a set of integers, separated by spaces: 1 4 7\n",
        "Input set is not a subset of any set in the list.\n",
        "```"
      ],
      "metadata": {
        "id": "vFS89iHRxYfL"
      }
    },
    {
      "cell_type": "code",
      "source": [
        "# insert your code for Set Is Subset of Any Set"
      ],
      "metadata": {
        "id": "gWIJD5xDxrB7"
      },
      "execution_count": null,
      "outputs": []
    },
    {
      "cell_type": "markdown",
      "source": [
        "## Union and Intersection\n",
        "Write a program that asks for two sets. Ask for the element of the set in one line and elements separated by spaces. Calculate and print the union and intersection of these sets.\n",
        "\n",
        "Sample output 1:\n",
        "```\n",
        "Enter elements of the first set: 1 2 3 4 5 6 7 8 9 10\n",
        "Enter elements of the second set: 5 6 7 8 9 10 11 12 13 14 15\n",
        "Union: {1, 2, 3, 4, 5, 6, 7, 8, 9, 10, 11, 12, 13, 14, 15}\n",
        "Intersection: {5, 6, 7, 8, 9, 10}\n",
        "```\n",
        "Sample Output 2:\n",
        "```\n",
        "Enter elements of the first set: 1 1 2 2 3 3\n",
        "Enter elements of the second set: 3 3 4 4 5 5\n",
        "Union: {1, 2, 3, 4, 5}\n",
        "Intersection: {3}\n",
        "```\n",
        "Sample output 3:\n",
        "```\n",
        "Enter elements of the first set: -10 -9 -8 -7 -6 -5 -4 -3 -2 -1\n",
        "Enter elements of the second set: 1 2 3 4 5 6 7 8 9 10\n",
        "Union: {1, 2, 3, 4, 5, 6, 7, 8, 9, 10, -10, -9, -8, -7, -6, -5, -4, -3, -2, -1}\n",
        "Intersection: set()\n",
        "```\n"
      ],
      "metadata": {
        "id": "PzEjrut3wGrz"
      }
    },
    {
      "cell_type": "code",
      "source": [
        "# insert your code for Union and Intersection"
      ],
      "metadata": {
        "id": "W0kukQAhxBVk"
      },
      "execution_count": null,
      "outputs": []
    },
    {
      "cell_type": "markdown",
      "source": [
        "## Union and Intersection with Product\n",
        "Write a program to input two sets of integers. Calculate and print the union and intersection of these sets. Also, print the product of the union and the intersection sets.\n",
        "\n",
        "Sample output 1:\n",
        "```\n",
        "Enter elements of the first set: 1 2 3 4 5 6 7 8 9 10\n",
        "Enter elements of the second set: 5 6 7 8 9 10 12\n",
        "Union: {1, 2, 3, 4, 5, 6, 7, 8, 9, 10, 12}\n",
        "Intersection: {5, 6, 7, 8, 9, 10}\n",
        "Product of Union: 43545600\n",
        "Product of Intersection: 151200\n",
        "```\n",
        "Sample output 2:\n",
        "```\n",
        "Enter elements of the first set: 2 1 3\n",
        "Enter elements of the second set: 5 1 2\n",
        "Union: {1, 2, 3, 5}\n",
        "Intersection: {1, 2}\n",
        "Product of Union: 30\n",
        "Product of Intersection: 2\n",
        "```\n",
        "Sample output 3:\n",
        "```\n",
        "Enter elements of the first set: 1 0 -1 -2\n",
        "Enter elements of the second set: 0 1 2 3\n",
        "Union: {0, 1, 2, 3, -2, -1}\n",
        "Intersection: {0, 1}\n",
        "Product of Union: 0\n",
        "Product of Intersection: 0\n",
        "```"
      ],
      "metadata": {
        "id": "NoXCpbMw6qY9"
      }
    },
    {
      "cell_type": "code",
      "source": [
        "# insert your code for Union and Intersection with Product"
      ],
      "metadata": {
        "id": "4V7vCpvB65um"
      },
      "execution_count": null,
      "outputs": []
    },
    {
      "cell_type": "markdown",
      "source": [
        "## Symmetric Difference and Subset Check\n",
        "Write a program that asks for two sets. Ask for the element of the set in one line and elements separated by spaces. Calculate and print the symmetric difference of these sets. Then, check if the first set is a subset of the second set and print the result.\n",
        "\n",
        "Sample output 1:\n",
        "```\n",
        "Enter elements of the first set: 50 45 40 35 30 25 20 15 10 5\n",
        "Enter elements of the second set: 25 20 15 10 5 0 -5 -10 -15 -20\n",
        "Symmetric difference: {0, 35, 40, -20, 45, -15, 50, -10, -5, 30}\n",
        "Is subset: False\n",
        "```\n",
        "Sample output 2:\n",
        "```\n",
        "Enter elements of the first set: 10 20 30 40 50 60 70 80 90 100\n",
        "Enter elements of the second set: 30 40 50 60 70 80 90\n",
        "Symmetric difference: {100, 10, 20}\n",
        "Is subset: False\n",
        "```\n",
        "Sample output 3:\n",
        "```\n",
        "Enter elements of the first set: 50 90 60 40\n",
        "Enter elements of the second set: 50 90 100 60 150 40 200 250\n",
        "Symmetric difference: {100, 200, 250, 150}\n",
        "Is subset: True\n",
        "```"
      ],
      "metadata": {
        "id": "-ylvES93xwtb"
      }
    },
    {
      "cell_type": "code",
      "source": [
        "# insert your code for Symmetric Difference and Subset Check"
      ],
      "metadata": {
        "id": "m78BGoqbxx6r"
      },
      "execution_count": null,
      "outputs": []
    },
    {
      "cell_type": "markdown",
      "source": [
        "# 10. Dictionaries"
      ],
      "metadata": {
        "id": "m-g86egW7PM2"
      }
    },
    {
      "cell_type": "markdown",
      "source": [
        "## Show Me All Your Keys!\n",
        "\n",
        "A dictionary is initialized with key-value pairs as shown below.\n",
        "```\n",
        "capital_city = {\n",
        "    \"Philippines\": \"Manila\",\n",
        "    \"Japan\": \"Tokyo\",\n",
        "    \"Italy\": \"Rome\",\n",
        "    \"England\": \"London\",\n",
        "}\n",
        "```\n",
        "Get and print all the keys of the dictionary (one per line).\n",
        "\n",
        "Sample Output 1:\n",
        "```\n",
        "Philippines\n",
        "Japan\n",
        "Italy\n",
        "England\n",
        "```"
      ],
      "metadata": {
        "id": "vi4p0cqcBLLX"
      }
    },
    {
      "cell_type": "code",
      "source": [
        "# insert your code for Show Me All Your Keys!"
      ],
      "metadata": {
        "id": "sQPvCV9xBV-p"
      },
      "execution_count": null,
      "outputs": []
    },
    {
      "cell_type": "markdown",
      "source": [
        "## How Many Words are in your Dictionary?\n",
        "A dictionary is initialized with key-value pairs as shown below.\n",
        "```\n",
        "numbers = {\n",
        "    1: \"One\",\n",
        "    2: \"Two\",\n",
        "    3: \"Three\",\n",
        "    4: \"Four\"\n",
        "}\n",
        "```\n",
        "Print its length on the next line using the proper built-in function available.\n",
        "\n",
        "Sample output:\n",
        "```\n",
        "Length of dictionary: 4\n",
        "```"
      ],
      "metadata": {
        "id": "-83iyZbDARxn"
      }
    },
    {
      "cell_type": "code",
      "source": [
        "# insert your code for How Many Words are in your Dictionary?"
      ],
      "metadata": {
        "id": "0pjqYcc-AlAv"
      },
      "execution_count": null,
      "outputs": []
    },
    {
      "cell_type": "markdown",
      "source": [
        "## Updating Dictionaries\n",
        "\n",
        "A dictionary is initialized with key-value pairs in the code editor.\n",
        "\n",
        "Ask the user for a new value and update the value in the key `'key_1'` with the inputted value.\n",
        "\n",
        "Print the updated dictionary on the next line after.\n",
        "\n",
        "Sample output 1:\n",
        "```\n",
        "Enter a new value for key_1: 3\n",
        "{'key_0': 4, 'key_1': 3, 'key_2': 7, 'key_3': 1, 'key_4': 5, 'key_5': 10}\n",
        "```\n",
        "Sample output 2:\n",
        "```\n",
        "Enter a new value for key_1: 100\n",
        "{'key_0': 4, 'key_1': 100, 'key_2': 7, 'key_3': 1, 'key_4': 5, 'key_5': 10}\n",
        "```\n",
        "Sample output 3:\n",
        "```\n",
        "Enter a new value for key_1: 232\n",
        "{'key_0': 4, 'key_1': 232, 'key_2': 7, 'key_3': 1, 'key_4': 5, 'key_5': 10}\n",
        "```"
      ],
      "metadata": {
        "id": "8_8m_V7a9-K_"
      }
    },
    {
      "cell_type": "code",
      "source": [
        "# insert your code for Updating Dictionaries"
      ],
      "metadata": {
        "id": "sMbMBtKm-xrX"
      },
      "execution_count": null,
      "outputs": []
    },
    {
      "cell_type": "markdown",
      "source": [
        "## Did You Find My Key?\n",
        "\n",
        "A dictionary is initialized with key-value pairs as shown below.\n",
        "\n",
        "```\n",
        "person_details = {\n",
        "    \"name\": \"Cody\",\n",
        "    \"age\": \"4\",\n",
        "    \"color\": \"blue\",\n",
        "    \"nickname\": \"Chum\"\n",
        "}\n",
        "```\n",
        "\n",
        "Ask the user for a string input and check if that input exists as a key in the dictionary.\n",
        "\n",
        "Print `\"The {key} exists in the dictionary.\"` if it exists, otherwise print `\"The {key} does not exist in the dictionary.\"` on the next line.\n",
        "\n",
        "Sample output 1:\n",
        "```\n",
        "Enter a key: name\n",
        "The name exists in the dictionary.\n",
        "```\n",
        "Sample output 2:\n",
        "```\n",
        "Enter a key: eye_color\n",
        "The eye_color does not exist in the dictionary.\n",
        "```\n",
        "Sample output 3:\n",
        "```\n",
        "Enter a key: color\n",
        "The color exists in the dictionary.\n",
        "```\n"
      ],
      "metadata": {
        "id": "D4bmChaz_Iju"
      }
    },
    {
      "cell_type": "code",
      "source": [
        "# insert your code for Did You Find My Key?"
      ],
      "metadata": {
        "id": "_lXe4kf3_oa9"
      },
      "execution_count": null,
      "outputs": []
    },
    {
      "cell_type": "markdown",
      "source": [
        "## Unique Words Counter\n",
        "\n",
        "Write a program that takes a sentence as input and counts the number of unique words in the sentence using a dictionary.\n",
        "\n",
        "Sample output 1:\n",
        "```\n",
        "Enter a sentence: The quick brown fox jumps over the lazy dog.\n",
        "Number of unique words: 8\n",
        "```\n",
        "Sample output 2:\n",
        "```\n",
        "Enter a sentence: Hello world, hello to you!\n",
        "Number of unique words: 4\n",
        "```"
      ],
      "metadata": {
        "id": "7iKn4Tfq-2AG"
      }
    },
    {
      "cell_type": "code",
      "source": [
        "# insert your code for Unique Words Counter"
      ],
      "metadata": {
        "id": "CHM5PIIo_ABJ"
      },
      "execution_count": null,
      "outputs": []
    },
    {
      "cell_type": "markdown",
      "source": [
        "## Dictionary Sorter\n",
        "Write a program that takes a dictionary as input and sorts it by the values in ascending order. Taking input from the user and considering whether it would be lowercase or uppercase. if `'done'` is inputted it would stop asking for input from the user and then print the sorted version of the dictionary.\n",
        "\n",
        "Sample output 1:\n",
        "```\n",
        "Enter dictionary items (key-value pairs). Enter 'done' to finish.\n",
        "Key: h\n",
        "Value: 5\n",
        "Key: e\n",
        "Value: 1\n",
        "Key: l\n",
        "Value: 2\n",
        "Key: done\n",
        "Sorted dictionary:\n",
        "e: 1\n",
        "l: 2\n",
        "h: 5\n",
        "```\n",
        "Sample output 2:\n",
        "```\n",
        "Enter dictionary items (key-value pairs). Enter 'done' to finish.\n",
        "Key: c\n",
        "Value: 2\n",
        "Key: o\n",
        "Value: 8\n",
        "Key: d\n",
        "Value: 9\n",
        "Key: e\n",
        "Value: 1\n",
        "Key: done\n",
        "Sorted dictionary:\n",
        "e: 1\n",
        "c: 2\n",
        "o: 8\n",
        "d: 9\n",
        "```"
      ],
      "metadata": {
        "id": "F4CO8zIV7WTl"
      }
    },
    {
      "cell_type": "code",
      "source": [
        "# insert your code for Dictionary Sorter"
      ],
      "metadata": {
        "id": "7v5mbGI497K_"
      },
      "execution_count": null,
      "outputs": []
    },
    {
      "cell_type": "markdown",
      "source": [
        "##  Dictionary Key Value Product\n",
        "Write a function that takes a dictionary of integers as input and returns the product of the keys and values in the dictionary. For example, if the input dictionary is `{1: 2, 3: 4, 5: 6}`, the output should be `720` since `(1*2*3*4*5*6)=720`.\n",
        "\n",
        "Sample output 1:\n",
        "```\n",
        "Enter dictionary values in format key:value,key:value,...\n",
        "1:2, 3:4, 5:6\n",
        "Product of key-value pairs in the dictionary is: 720\n",
        "```\n",
        "Sample output 2:\n",
        "```\n",
        "Enter dictionary values in format key:value,key:value,...\n",
        "2:4, 4:6, 8:10\n",
        "Product of key-value pairs in the dictionary is: 15360\n",
        "```\n",
        "Sample output 3:\n",
        "```\n",
        "Enter dictionary values in format key:value,key:value,...\n",
        "1:1, 2:2, 3:3\n",
        "Product of key-value pairs in the dictionary is: 36\n",
        "```"
      ],
      "metadata": {
        "id": "Ylz5q6OPBfvn"
      }
    },
    {
      "cell_type": "code",
      "source": [
        "# insert your code for Dictionary Key Value Product"
      ],
      "metadata": {
        "id": "azWd1foPCLE1"
      },
      "execution_count": null,
      "outputs": []
    },
    {
      "cell_type": "markdown",
      "source": [
        "## Dictionary Key Search and Sort\n",
        "\n",
        "Write a program that takes a dictionary as input, prompts the user to search for a key, and if found, sorts the values associated with that key in alphabetical order.\n",
        "\n",
        "\n",
        "Three Dictionaries are needed:\n",
        "\n",
        "1. Fruits\n",
        "  1. banana\n",
        "  2. apple\n",
        "  3. orange\n",
        "2. Vegetable\n",
        "  1. carrot\n",
        "  2. celery\n",
        "  3. broccoli\n",
        "3. Meat\n",
        "  1. chicken\n",
        "  2. beef\n",
        "  3. pork\n",
        "\n",
        "Sample output 1:\n",
        "```\n",
        "Enter a key to search for: Fruit\n",
        "Values associated with key 'fruit' in alphabetical order:\n",
        "apple\n",
        "banana\n",
        "orange\n",
        "```\n",
        "Sample output 2:\n",
        "```\n",
        "Enter a key to search for: vegetable\n",
        "Values associated with key 'vegetable' in alphabetical order:\n",
        "broccoli\n",
        "carrot\n",
        "celery\n",
        "```\n",
        "Sample output 3:\n",
        "```\n",
        "Enter a key to search for: meats\n",
        "Key 'meats' not found in dictionary.\n",
        "```"
      ],
      "metadata": {
        "id": "wkkHgSSA9_sF"
      }
    },
    {
      "cell_type": "code",
      "source": [
        "# insert your code for Dictionary Key Search and Sort"
      ],
      "metadata": {
        "id": "xupdhQDm-ePt"
      },
      "execution_count": null,
      "outputs": []
    },
    {
      "cell_type": "markdown",
      "source": [
        "## Anagram Checker\n",
        "Write a program that takes two words as input and determines whether they are anagrams of each other using dictionaries.\n",
        "\n",
        "Sample output 1:\n",
        "```\n",
        "Enter first word: bored\n",
        "Enter second word: robed\n",
        "The words are anagrams of each other.\n",
        "```\n",
        "Sample output 2:\n",
        "```\n",
        "Enter first word: hello\n",
        "Enter second word: ello\n",
        "The words are not anagrams of each other.\n",
        "```\n",
        "Sample output 3:\n",
        "```\n",
        "Enter first word: BELow\n",
        "Enter second word: elbow\n",
        "The words are anagrams of each other.\n",
        "```"
      ],
      "metadata": {
        "id": "o0kcQ7lu_x4_"
      }
    },
    {
      "cell_type": "code",
      "source": [
        "# insert your code for Anagram Checker"
      ],
      "metadata": {
        "id": "UhVoVXIZAA6m"
      },
      "execution_count": null,
      "outputs": []
    },
    {
      "cell_type": "markdown",
      "source": [
        "## Currency Converter\n",
        "Create a program that allows the user to convert between different currencies using a dictionary that contains conversion rates. The program should ask the user to enter an amount in one currency, then ask for the target currency, and output the converted amount. The conversion rates should be stored in a dictionary, where the keys are the currency codes (e.g., USD, EUR, GBP) and the values are the conversion rates.\n",
        "Conversion rates:\n",
        "\n",
        "* USD - 1.00\n",
        "* EUR - 0.84\n",
        "* GBP - 0.72\n",
        "* JPY - 109.98\n",
        "* AUD - 1.33\n",
        "* CAD - 1.26\n",
        "* CHF - 0.92\n",
        "* CNY - 6.46\n",
        "* HKD - 7.76\n",
        "* NZD - 1.43\n",
        "\n",
        "Sample output 1:\n",
        "```\n",
        "Enter the amount: 123\n",
        "Enter the source currency code (USD, EUR, GBP, JPY, AUD, CAD, CHF, CNY, HKD, NZD): hkd\n",
        "Enter the target currency code (USD, EUR, GBP, JPY, AUD, CAD, CHF, CNY, HKD, NZD): usd\n",
        "123.00 HKD = 15.86 USD\n",
        "```\n",
        "Sample output 2:\n",
        "```\n",
        "Enter the amount: 421\n",
        "Enter the source currency code (USD, EUR, GBP, JPY, AUD, CAD, CHF, CNY, HKD, NZD): chf\n",
        "Enter the target currency code (USD, EUR, GBP, JPY, AUD, CAD, CHF, CNY, HKD, NZD): nzd\n",
        "421.00 CHF = 640.22 NZD\n",
        "```\n",
        "Sample output 3:\n",
        "```\n",
        "Enter the amount: 1\n",
        "Enter the source currency code (USD, EUR, GBP, JPY, AUD, CAD, CHF, CNY, HKD, NZD): ssd\n",
        "Invalid source currency code.\n",
        "```\n"
      ],
      "metadata": {
        "id": "k5HC6-oiAtFP"
      }
    },
    {
      "cell_type": "code",
      "source": [
        "# insert your code for Currency Converter"
      ],
      "metadata": {
        "id": "MdRl_nrZBCRP"
      },
      "execution_count": null,
      "outputs": []
    },
    {
      "cell_type": "markdown",
      "source": [
        "# 11. Functions"
      ],
      "metadata": {
        "id": "ApQqrJkhCaOH"
      }
    },
    {
      "cell_type": "markdown",
      "source": [
        "## X plus Y Function\n",
        "Write a program that includes a `function`, as specified in the minimum requirements, that asks for two integer numbers, x, and y. Then, add y to x, and assign it to x using the `+=` operator. The function will return x after the assignment. In the main function, call the created function and print the returned value.\n",
        "\n",
        "Sample output 1:\n",
        "```\n",
        "Enter x: 10\n",
        "Enter y: 5\n",
        "Result: 15\n",
        "```\n",
        "Sample Output 2\n",
        "```\n",
        "Enter x: 33\n",
        "Enter y: 3\n",
        "Result: 36\n",
        "```\n",
        "Sample Output 3\n",
        "```\n",
        "Enter x: 1\n",
        "Enter y: 1\n",
        "Result: 2\n",
        "```"
      ],
      "metadata": {
        "id": "Pjbxq2a_D8x4"
      }
    },
    {
      "cell_type": "code",
      "source": [
        "# insert  your code for X plus Y Function"
      ],
      "metadata": {
        "id": "UNSLjDarETGH"
      },
      "execution_count": null,
      "outputs": []
    },
    {
      "cell_type": "markdown",
      "source": [
        "## Area of a Circle\n",
        "\n",
        "Write a program that includes a `function`, as specified in the minimum requirements, that calculates and returns the area of a circle with a radius entered by the user. The function should take no parameters but should prompt the user to enter a radius. In the main function, call the created function and print the returned value.\n",
        "\n",
        "Sample Output 1\n",
        "```\n",
        "Enter the radius of the circle: 2\n",
        "Area of Circle: 12.57\n",
        "```\n",
        "Sample output 2:\n",
        "```\n",
        "Enter the radius of the circle: 56\n",
        "Area of Circle: 9852.03\n",
        "```\n",
        "Sample output 3:\n",
        "```\n",
        "Enter the radius of the circle: 6\n",
        "Area of Circle: 113.10\n",
        "```"
      ],
      "metadata": {
        "id": "2de34-pIDkwP"
      }
    },
    {
      "cell_type": "code",
      "source": [
        "# insert your code for Area of a Circle"
      ],
      "metadata": {
        "id": "C5H9T40xDxYH"
      },
      "execution_count": null,
      "outputs": []
    },
    {
      "cell_type": "markdown",
      "source": [
        "## Perimeter of Circle Section\n",
        "Write a program that includes a `function`, as specified in the minimum requirements, that asks the user to input the radius and arc length of the circle. The function then calculates and returns the perimeter of a circle sector using the formula `perimeter = 2 * radius + arcLength`. In the main function, call the created function and print the returned value.\n",
        "\n",
        "Sample output 1:\n",
        "```\n",
        "Enter the radius of the circle sector: 5.5\n",
        "Enter the arc length of the circle sector: 12.2\n",
        "Perimeter of the circle sector: 23.20\n",
        "```\n",
        "Sample output 2:\n",
        "```\n",
        "Enter the radius of the circle sector: 10\n",
        "Enter the arc length of the circle sector: 33.3\n",
        "Perimeter of the circle sector: 53.30\n",
        "```\n",
        "Sample output 3:\n",
        "```\n",
        "Enter the radius of the circle sector: 12.12\n",
        "Enter the arc length of the circle sector: 13.13\n",
        "Perimeter of the circle sector: 37.37\n",
        "```"
      ],
      "metadata": {
        "id": "PTwVnZ5KCftu"
      }
    },
    {
      "cell_type": "code",
      "source": [
        "# insert your code for Perimeter of Circle Section"
      ],
      "metadata": {
        "id": "A6ZRZRfcDfA-"
      },
      "execution_count": null,
      "outputs": []
    },
    {
      "cell_type": "markdown",
      "source": [
        "## Maximum Value\n",
        "Write a program that includes a `function`, as specified in the minimum requirements, that takes two integer values as parameters and returns the maximum value. In the main function, ask for two integer inputs, then call the created function using the inputs, get the returned value, and print the said value.\n",
        "\n",
        "Sample Output 1\n",
        "```\n",
        "Enter two integers:\n",
        "14\n",
        "12\n",
        "The maximum value is 14\n",
        "```\n",
        "Sample Output 2\n",
        "```\n",
        "Enter two integers:\n",
        "56\n",
        "15651\n",
        "The maximum value is 15651\n",
        "```\n",
        "Sample Output 3\n",
        "```\n",
        "Enter two integers:\n",
        "465\n",
        "124\n",
        "The maximum value is 465\n",
        "```"
      ],
      "metadata": {
        "id": "KrD4M7ZFFHjX"
      }
    },
    {
      "cell_type": "code",
      "source": [
        "# insert your code for Maximum Value"
      ],
      "metadata": {
        "id": "KvB24IZjFTcX"
      },
      "execution_count": null,
      "outputs": []
    },
    {
      "cell_type": "markdown",
      "source": [
        "## Reverse String\n",
        "Write a program that includes a `function`, as specified in the minimum requirements, that takes a string as a parameter and returns the reversed string. In the main function, ask for a string input, then call the created function using the input, get the returned value, and print the said value.\n",
        "\n",
        "Sample Output 1\n",
        "```\n",
        "Enter a string: This is a sample string.\n",
        "The reversed string is:\n",
        ".gnirts elpmas a si sihT\n",
        "```\n",
        "Sample Output 2\n",
        "```\n",
        "Enter a string: CodeChum is awesome.\n",
        "The reversed string is:\n",
        ".emosewa si muhCedoC\n",
        "```\n",
        "Sample Output 3\n",
        "```\n",
        "Enter a string: Hello, World!\n",
        "The reversed string is:\n",
        "!dlroW ,olleH\n",
        "```"
      ],
      "metadata": {
        "id": "LJ_AlfnXFy4H"
      }
    },
    {
      "cell_type": "code",
      "source": [
        "# insert your code for Reverse String"
      ],
      "metadata": {
        "id": "ERtXU6WHF8D3"
      },
      "execution_count": null,
      "outputs": []
    },
    {
      "cell_type": "markdown",
      "source": [
        "## Kelvin to Celsius\n",
        "\n",
        "Write a program that includes a `function`, as specified in the minimum requirements, that takes a double precision floating-point argument - `kelvin`. It converts the temperature from Kelvin to Celsius using the conversion formula: `Celsius = Kelvin - 273.15`, and returns the converted temperature in double data type. In the main function, ask for the kelvin input, then call the created function using the input, get the returned value, and print the said value.\n",
        "\n",
        "Sample Output 1\n",
        "```\n",
        "Enter the temperature in Kelvin: 432\n",
        "Temperature in Celsius: 158.85\n",
        "```\n",
        "Sample Output 2\n",
        "```\n",
        "Enter the temperature in Kelvin: 273\n",
        "Temperature in Celsius: -0.15\n",
        "```\n",
        "Sample Output 3\n",
        "```\n",
        "Enter the temperature in Kelvin: 2752\n",
        "Temperature in Celsius: 2478.85\n",
        "```"
      ],
      "metadata": {
        "id": "11stAPoYFWYX"
      }
    },
    {
      "cell_type": "code",
      "source": [
        "# insert your code for Kelvin to Celsius"
      ],
      "metadata": {
        "id": "hy-p9VkyFtzO"
      },
      "execution_count": null,
      "outputs": []
    },
    {
      "cell_type": "markdown",
      "source": [
        "## Volume Conversion and Total Volume\n",
        "Write a program that includes three `functions`, as specified in the minimum requirements. The following are the function details:\n",
        "\n",
        "* Convert Liters to Milliliters: This function takes a double precision floating-point argument - `'liters'`. It converts the volume from liters to milliliters using the conversion factor:\n",
        "`1 liter = 1000 milliliters` and returns the converted value in milliliters (double).\n",
        "* Convert Cubic Meters to Cubic feet: This function takes a double precision floating-point argument - `cubicMeters`. It converts the volume from cubic meters to cubic feet using the conversion factor: `1 cubic foot = 0.0283168 cubic meters` and returns the converted value in cubic feet (double).\n",
        "* Calculate Total Volume: This function takes two double precision floating-point arguments - `millilitersValue` and `cubicFeetValue`. It calculates the total volume by summing the converted milliliters and cubic feet values and returns the result (double).\n",
        "\n",
        "\n",
        "In the main function, ask for two double values, `liters` and `cubicMeters`, then use the functions convert liters to milliliters, convert cubic meters to cubic feet, and calculate total volume functions with their respective results printed. The returned values of convert liters to milliliters and convert cubic meters to cubic feet functions are used in calculate total volume function.\n",
        "\n",
        "Sample Output 1:\n",
        "```\n",
        "Enter volume in liters: 100.55\n",
        "Enter volume in cubic meters: 23.56\n",
        "Converted Value in Milliliters: 100550.00 ml\n",
        "Converted Value in Cubic Feet: 832.01 cubic feet\n",
        "Total Volume: 101382.01\n",
        "```\n",
        "Sample Output 2\n",
        "```\n",
        "Enter volume in liters: 556.86\n",
        "Enter volume in cubic meters: 5.77\n",
        "Converted Value in Milliliters: 556860.00 ml\n",
        "Converted Value in Cubic Feet: 203.77 cubic feet\n",
        "Total Volume: 557063.77\n",
        "```\n",
        "Sample Output 3\n",
        "```\n",
        "Enter volume in liters: 34.5\n",
        "Enter volume in cubic meters: 667.8\n",
        "Converted Value in Milliliters: 34500.00 ml\n",
        "Converted Value in Cubic Feet: 23583.17 cubic feet\n",
        "Total Volume: 58083.17\n",
        "```"
      ],
      "metadata": {
        "id": "Ao96T0clEZtw"
      }
    },
    {
      "cell_type": "code",
      "source": [
        "# insert your code for Volume Conversion and Total Volume"
      ],
      "metadata": {
        "id": "_8Qcp_1LFAc4"
      },
      "execution_count": null,
      "outputs": []
    },
    {
      "cell_type": "markdown",
      "source": [
        "## Even Numbers\n",
        "\n",
        "Write a program that includes a `function`, as specified in the minimum requirements, that prints out all even numbers from `1` to `N`. In the main function, call the created function.\n",
        "\n",
        "Sample Output 1\n",
        "```\n",
        "Enter a number: 6\n",
        "2\n",
        "4\n",
        "6\n",
        "```\n",
        "Sample Output 2\n",
        "```\n",
        "Enter a number: 20\n",
        "2\n",
        "4\n",
        "6\n",
        "8\n",
        "10\n",
        "12\n",
        "14\n",
        "16\n",
        "18\n",
        "20\n",
        "```\n",
        "Sample Output 3\n",
        "```\n",
        "Enter a number: 41\n",
        "2\n",
        "4\n",
        "6\n",
        "8\n",
        "10\n",
        "12\n",
        "14\n",
        "16\n",
        "18\n",
        "20\n",
        "22\n",
        "24\n",
        "26\n",
        "28\n",
        "30\n",
        "32\n",
        "34\n",
        "36\n",
        "38\n",
        "40\n",
        "```"
      ],
      "metadata": {
        "id": "k1ZHdkRNGvoH"
      }
    },
    {
      "cell_type": "code",
      "source": [
        "# insert your code for Even Numbers"
      ],
      "metadata": {
        "id": "uFG9NFPsG4Hw"
      },
      "execution_count": null,
      "outputs": []
    },
    {
      "cell_type": "markdown",
      "source": [
        "## Expression Evaluation\n",
        "\n",
        "Write a program that includes a `function`, as specified in the minimum requirements, which does not return anything and takes four double arguments - `'a', 'b', 'c',` and `'d'`. It evaluates the expression `(a + b) * (c - d) / (b + c)` and displays the result. In the main function, ask for `a, b, c` and `d` then call the created function by passing the inputs.\n",
        "\n",
        "Sample Output 1\n",
        "```\n",
        "Enter a: -5.2\n",
        "Enter b: 3.5\n",
        "Enter c: 6.6\n",
        "Enter d: 2.8\n",
        "Result of expression: -0.64\n",
        "```\n",
        "Sample Output 2\n",
        "```\n",
        "Enter a: 2.2\n",
        "Enter b: 6.4\n",
        "Enter c: 3.3\n",
        "Enter d: -6.6\n",
        "Result of expression: 8.78\n",
        "```\n",
        "Sample Output 3\n",
        "```\n",
        "Enter a: 8.8\n",
        "Enter b: 2.2\n",
        "Enter c: 5.5\n",
        "Enter d: 8\n",
        "Result of expression: -3.57\n",
        "```"
      ],
      "metadata": {
        "id": "L8A7ur-DGZYn"
      }
    },
    {
      "cell_type": "code",
      "source": [
        "# insert your code for Expression Evaluation"
      ],
      "metadata": {
        "id": "FUtwqh3NGpEC"
      },
      "execution_count": null,
      "outputs": []
    },
    {
      "cell_type": "markdown",
      "source": [
        "## Invoice Generator\n",
        "Write a program that includes a `function`, as specified in the minimum requirements, that takes no arguments. Inside this function, prompt the user to enter the following details:\n",
        "* Customer Name\n",
        "* Product Name\n",
        "* Quantity\n",
        "* Price per Item in Decimal\n",
        "* Total Amount\n",
        "\n",
        "Display an invoice containing all the collected information in the format:\n",
        "```\n",
        "Invoice:\n",
        "Customer: [Customer]\n",
        "Product: [Product]\n",
        "Quantity: [Quantity]\n",
        "Price: [Price]\n",
        "Total: [Total]\n",
        "```\n",
        "\n",
        "In the main function, call the created function.\n",
        "\n",
        "Sample Output 1\n",
        "```\n",
        "Enter Customer Name: Xianrin\n",
        "Enter Product Name: Gooba\n",
        "Enter Quantity: 250\n",
        "Enter Price: 5\n",
        "Invoice:\n",
        "Customer: Xianrin\n",
        "Product: Gooba\n",
        "Quantity: 250\n",
        "Price: 5.00\n",
        "Total: 1250.00\n",
        "```\n",
        "Sample Output 2\n",
        "```\n",
        "Enter Customer Name: Yula\n",
        "Enter Product Name: Pines\n",
        "Enter Quantity: 100000\n",
        "Enter Price: 5\n",
        "Invoice:\n",
        "Customer: Yula\n",
        "Product: Pines\n",
        "Quantity: 100000\n",
        "Price: 5.00\n",
        "Total: 500000.00\n",
        "```\n",
        "Sample Output 3\n",
        "```\n",
        "Enter Customer Name: Forinna\n",
        "Enter Product Name: Dessert\n",
        "Enter Quantity: 250\n",
        "Enter Price: 3\n",
        "Invoice:\n",
        "Customer: Forinna\n",
        "Product: Dessert\n",
        "Quantity: 250\n",
        "Price: 3.00\n",
        "Total: 750.00\n",
        "```"
      ],
      "metadata": {
        "id": "S_MYvBRZF_pX"
      }
    },
    {
      "cell_type": "code",
      "source": [
        "# insert your code for Invoice Generator"
      ],
      "metadata": {
        "id": "MTHjDmuuGS9Q"
      },
      "execution_count": null,
      "outputs": []
    },
    {
      "cell_type": "markdown",
      "source": [
        "---\n",
        "# *End of Laboratory Exercises. Nothing follows.*"
      ],
      "metadata": {
        "id": "UybEyo06JdiB"
      }
    }
  ]
}